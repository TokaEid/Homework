{
 "cells": [
  {
   "cell_type": "markdown",
   "metadata": {},
   "source": [
    "# Homework 6\n",
    "\n",
    "In this homework, you'll review some linear algebra, and practice using `sklearn` and `scipy.optimize` to solve several variations of linear models.  You'll also use Pandas and Scikit learn for a simple machine learning task on a UCI data set."
   ]
  },
  {
   "cell_type": "code",
   "execution_count": 1,
   "metadata": {},
   "outputs": [],
   "source": [
    "import numpy as np\n",
    "import matplotlib.pyplot as plt\n",
    "import scipy.linalg as la\n",
    "import pandas as pd\n",
    "import sklearn\n",
    "import time\n",
    "import scipy.optimize as opt"
   ]
  },
  {
   "cell_type": "markdown",
   "metadata": {},
   "source": [
    "## Linear Models\n",
    "\n",
    "A standard problem in statistics to solve the multivariate linear regression problem.\n",
    "\\begin{equation}\n",
    "y = X * \\beta + \\epsilon\n",
    "\\end{equation}\n",
    "The above notation is standard in statistics, but we'll use Householder notation by replacing $\\beta$ with `b`\n",
    "```\n",
    "y = X * b + eps\n",
    "```\n",
    "`X` is known as the [design matrix](https://en.wikipedia.org/wiki/Design_matrix), and consists of `n` rows of observations, each of which has `p` features.  `y` is a vector of `n` responses.  `b` is an unknown vector of `p` coefficients which we would like to find.  `eps` (epsilon) is a vector of length `n` with random noise, typically i.i.d. normally distributed with standard deviation `sig` (sigma).\n",
    "\n",
    "In numpy notation, we could express this as\n",
    "```python\n",
    "y[i] = np.dot(X[i], b) + sig * np.random.randn()\n",
    "```\n",
    "\n",
    "We want to determine `b`, so that when me make a new observation `X[n]` we can predict the response `y[n]`.  Our goal is to minimize the mean square error\n",
    "\n",
    "\\begin{equation}\n",
    "\\mathop{\\mathsf{minimize}}_b \\mathbb{E}((X[n]*b - y[n])^2)\n",
    "\\end{equation}\n",
    "\n",
    "The solution to this is the solution to the least squares problem\n",
    "\\begin{equation}\n",
    "\\mathop{\\mathsf{minimize}}_b \\frac{1}{n} \\|X*b - y\\|_2^2\n",
    "\\end{equation}\n",
    "\n",
    "Where $n$ is the number of rows in $X$.  We'll let the solution to the problem be denoted $\\hat{b}$, or `bhat`."
   ]
  },
  {
   "cell_type": "markdown",
   "metadata": {},
   "source": [
    "## Problem 0 - Linear Regression (30 points)\n",
    "\n",
    "There are a variety of ways to solve the above problem.  We'll assume that $n > p$, meaning there are more observations than features.\n",
    "\n",
    "### Generating Data\n",
    "\n",
    "Write a function `gen_lstsq(n, p, sig=0.1)` which will generate a linear least squares problem (return `X`, `y`, and `b` as described above).  `b` is the \"ground truth\" coefficients that we are looking for.  You can generate the matrix `X` using `np.random.randn`, and generate `b` using `np.random.randn` as well.\n"
   ]
  },
  {
   "cell_type": "code",
   "execution_count": 2,
   "metadata": {},
   "outputs": [],
   "source": [
    "def gen_lstsq(n, p, sig=0.1):\n",
    "    \"\"\"\n",
    "    Generates a linear least squares problem y = X @ b\n",
    "    where b is the ground truth solution\n",
    "    \"\"\"\n",
    "    \n",
    "    # Initialize arrays\n",
    "    X = np.random.randn(n,p)\n",
    "    b = np.random.randn(p)\n",
    "    y = np.zeros(n)\n",
    "    \n",
    "    # Calculate y\n",
    "    for i in range(n):\n",
    "        y[i] = np.dot(X[i], b) + sig * np.random.randn()\n",
    "    \n",
    "    return X, y, b"
   ]
  },
  {
   "cell_type": "markdown",
   "metadata": {},
   "source": [
    "### QR factorization\n",
    "\n",
    "If we form a QR factorization $X = QR$, we can find $\\hat{b} = R^{-1} Q^T y$.\n",
    "\n",
    "Write a function `solve_lstsq_qr(X, y)` which estimates `b` using the QR factorization as above."
   ]
  },
  {
   "cell_type": "code",
   "execution_count": 3,
   "metadata": {},
   "outputs": [],
   "source": [
    "def solve_lstsq_qr(X, y):\n",
    "    \"\"\"\n",
    "    Solves the least squares problem using QR factorization (X = QR)\n",
    "    and returns bhat = R^-1 @ Q.T @ y\n",
    "    \"\"\"\n",
    "    \n",
    "    # Find QR factorization of X\n",
    "    Q, R = la.qr(X, mode='economic')\n",
    "\n",
    "    # Solve for bhat_qr\n",
    "    bhat_qr = la.solve_triangular(R, Q.T @ y, lower=False)\n",
    "    \n",
    "    return bhat_qr"
   ]
  },
  {
   "cell_type": "markdown",
   "metadata": {},
   "source": [
    "### Normal Equations\n",
    "\n",
    "Often, this is the way statistics textbooks solve the problem: $\\hat{b} = (X^T X)^{-1} X^T y$.  This is based on the normal equation $X^T X \\hat{b} = X^T y$.\n",
    "\n",
    "Write a function `solve_lstsq_normal(X, y)` which estimates `b` using the normal equations above.  You probably don't want to form the inverse - use an LU or Cholesky factorization instead."
   ]
  },
  {
   "cell_type": "code",
   "execution_count": 4,
   "metadata": {},
   "outputs": [],
   "source": [
    "def solve_lstsq_normal(X, y):\n",
    "    \"\"\"\n",
    "    Solves the least squares problem using the normal equation X.T @ X @ bhat = X.T @ b\n",
    "    and returns bhat = (X.T @ X)^-1 X.T @ y using cholesky decomposition \n",
    "    \"\"\"\n",
    "    \n",
    "    # Get cholesky decomposition of X\n",
    "    U = la.cholesky(X.T @ X)\n",
    "    \n",
    "    # Solve for bhat_n (normal)\n",
    "    bhat_n = la.solve_triangular(\n",
    "            U,\n",
    "            la.solve_triangular(\n",
    "                U.T, \n",
    "                X.T @ y, \n",
    "                lower=True\n",
    "            ),\n",
    "            lower=False\n",
    "        )    \n",
    "        \n",
    "    return bhat_n"
   ]
  },
  {
   "cell_type": "markdown",
   "metadata": {},
   "source": [
    "### Check Your Work\n",
    "\n",
    "Generate a few random problems to test that `solve_lstsq_qr` and `solve_lstsq_normal` give the same prediction $\\hat{b}$ (measure $\\|\\hat{b}_{qr} - \\hat{b}_{normal}\\|_2$ and check it is smaller than `1e-4`).  Use $n > p$.  Check against `solve_lstsq` in numpy or scipy as well."
   ]
  },
  {
   "cell_type": "code",
   "execution_count": 5,
   "metadata": {},
   "outputs": [],
   "source": [
    "# Initialize error lists for each method\n",
    "err1 = []\n",
    "err2 = []\n",
    "err3 = []\n",
    "\n",
    "# Loops over the functions 3 times\n",
    "for i in range(3):\n",
    "\n",
    "    # Find random integer for n and p where p < n\n",
    "    n = np.random.randint(5, 50)\n",
    "    p = np.random.randint(1, n-1)\n",
    "\n",
    "    # Generate the least squares problem\n",
    "    X, y, b = gen_lstsq(n, p)\n",
    "    \n",
    "    # Solve the problem using QR factorization and the normal equation\n",
    "    bhat_qr = solve_lstsq_qr(X, y)\n",
    "    bhat_n = solve_lstsq_normal(X, y)\n",
    "    \n",
    "    # Solve the problem using scipy lstsq module\n",
    "    bhat = la.lstsq(X, y)[0]\n",
    "\n",
    "    # Calculate the norm of (bhat_1 - bhat_2) for two functions at a time and store it in the respective err list\n",
    "    # Then perform a check to make sure each error being added is less than the tolerance\n",
    "    \n",
    "    err1.append(la.norm(bhat_qr - bhat_n, ord=2))\n",
    "    assert err1[i] < 1e-4, \"Error larger than 1e-4\"\n",
    "\n",
    "    err2.append(la.norm(bhat_qr - bhat, ord=2))\n",
    "    assert err2[i] < 1e-4, \"Error larger than 1e-4\"\n",
    "    \n",
    "    err3.append(la.norm(bhat_n - bhat, ord=2))\n",
    "    assert err3[i] < 1e-4, \"Error larger than 1e-4\"\n"
   ]
  },
  {
   "cell_type": "markdown",
   "metadata": {},
   "source": [
    "### Estimate the Mean Squared Error\n",
    "\n",
    "Write a function `mse` which estimates the mean squared error (MSE) $\\mathbb{E}[\\|X * \\hat{b} - y\\|_2^2]$.\n",
    "\n",
    "The function should have the call signature `mse(b, bhat, N=100, sig=0.1)`  You can generate `X` to be `N x p` using `np.random.randn`, and set `y = X * b + sig * np.random.randn(p)` (use the same value of `sig` that you use when generating the data).  You can then estimate the MSE by computing $\\frac{1}{N}\\|X * \\hat{b} - y\\|_2^2$\n",
    "\n",
    "Create a plot of the MSE vs the noise parameter `sig` (use the same value of `sig` when generating data and computing the MSE).  Put `sig` on a logartihmic axis ranging from `1e-4` to `10`.  Use `n=100`, `p=50` when generating data, and `N=100` when computing the MSE.  Put your plot on log-log axes.  Give it a title and axis labels."
   ]
  },
  {
   "cell_type": "code",
   "execution_count": 6,
   "metadata": {},
   "outputs": [
    {
     "data": {
      "image/png": "[encoded data removed]",
      "text/plain": [
       "<Figure size 432x288 with 1 Axes>"
      ]
     },
     "metadata": {
      "needs_background": "light"
     },
     "output_type": "display_data"
    }
   ],
   "source": [
    "def mse(b, bhat, N=100, sig=0.1):\n",
    "    \"\"\"\n",
    "    Estimates the mean squared error (MSE) given a ground truth solution b and an estimated solution bhat\n",
    "    \"\"\"\n",
    "    \n",
    "    # Generate a matrix X\n",
    "    p = len(b)\n",
    "    X = np.random.randn(N, p)\n",
    "\n",
    "    # Calculate the solution y from X and ground truth solution b\n",
    "    y = X @ b + sig * np.random.randn(N)\n",
    "    \n",
    "    # Calculate the MSE\n",
    "    MSE = 1/N * np.dot(X @ bhat - y, X @ bhat - y)\n",
    "    \n",
    "    return MSE\n",
    "\n",
    "# Initialize parameters and lists\n",
    "sig = np.logspace(-4, 1)\n",
    "MSE_n = []\n",
    "MSE_qr = []\n",
    "n = 100\n",
    "p = 50\n",
    "N = 100\n",
    "\n",
    "# Loop over all values in list of sig\n",
    "for s in sig:\n",
    "    # Generate the least squares problem\n",
    "    X, y, b = gen_lstsq(n, p)\n",
    "    \n",
    "    # Solve for bhat using each method\n",
    "    bhat_n = solve_lstsq_normal(X, y)\n",
    "    bhat_qr = solve_lstsq_qr(X, y)\n",
    "    \n",
    "    # Append the MSE of each method to the respective list\n",
    "    MSE_n.append(mse(b, bhat_n, N, s))\n",
    "    MSE_qr.append(mse(b, bhat_qr, N, s))\n",
    "\n",
    "\n",
    "# Plot the MSE against the values of sig\n",
    "plt.plot(sig, MSE_n, label='Normal')\n",
    "plt.plot(sig, MSE_qr, label='QR')\n",
    "plt.title('Mean Square Error vs Noise')\n",
    "plt.xlabel('$\\sigma$')\n",
    "plt.ylabel('MSE')\n",
    "plt.xscale('log')\n",
    "plt.yscale('log')\n",
    "plt.legend()\n",
    "plt.show()"
   ]
  },
  {
   "cell_type": "markdown",
   "metadata": {},
   "source": [
    "### Discussion 1\n",
    "\n",
    "Which of `solve_lstsq_qr` and `solve_lstsq_normal` is faster?  Give a justification for your answer (e.g. in terms of what you know about time to compute matrix multiplication and factorizations)."
   ]
  },
  {
   "cell_type": "code",
   "execution_count": 7,
   "metadata": {},
   "outputs": [
    {
     "name": "stdout",
     "output_type": "stream",
     "text": [
      "Time for lstsq_qr 0.0004546642303466797 sec.\n",
      "Time for lstsq_normal 0.0006711483001708984 sec.\n"
     ]
    }
   ],
   "source": [
    "# Generate least squares problems\n",
    "n = 100\n",
    "p = 50\n",
    "X, y, b = gen_lstsq(n, p)\n",
    "\n",
    "# Calculate time for QR factorization method\n",
    "t0 = time.time()\n",
    "bhat_qr = solve_lstsq_qr(X, y)\n",
    "t1 = time.time()\n",
    "print(\"Time for lstsq_qr {} sec.\".format(t1 - t0))\n",
    "\n",
    "# Calculate time for normal equation method\n",
    "t2 = time.time()\n",
    "bhat_n = solve_lstsq_normal(X, y)\n",
    "t3 = time.time()\n",
    "print(\"Time for lstsq_normal {} sec.\".format(t3 - t2))"
   ]
  },
  {
   "cell_type": "markdown",
   "metadata": {},
   "source": [
    "---\n",
    "I think they're very similar in run times. Occasionally the run times of one is faster than the other but it keeps changing which one is faster so I'm not really sure if one is ultimately always faster."
   ]
  },
  {
   "cell_type": "markdown",
   "metadata": {},
   "source": [
    "### Optimization\n",
    "\n",
    "Solve the minimization problem \n",
    "\\begin{equation}\n",
    "\\mathop{\\mathsf{minimize}}_b \\frac{1}{n}\\|X*b - y\\|_2^2\n",
    "\\end{equation}\n",
    "\n",
    "using `scipy.optimize.minimize`.  Wrap this in a function `solve_lstsq_opt(X, y)`.  Note that you can define the objective function inside `solve_lstsq_opt`\n",
    "\n",
    "**Jacobian**: you should implement the Jacobian of the objective function to use in the optimization problem.  Here's a derivation:  We'd like to minimize the objective function\n",
    "\\begin{equation}\n",
    "n f(b) = \\|X*b - y\\|_2^2 = (Xb - y)^T (Xb - y) = b^T X^T X b - 2 y^T X b + y^T y\n",
    "\\end{equation}\n",
    "\n",
    "We might write the above expression as\n",
    "\\begin{equation}\n",
    "n f(b) \\sum_{i,j} b_i (X^T X)_{i,j} b_j - 2\\sum_{j,i} y_i X_{i,j} b_j + y^T y\n",
    "\\end{equation}\n",
    "\n",
    "We can take a derivative with respect to $b_j$\n",
    "\\begin{equation}\n",
    "n \\frac{\\partial f}{\\partial b_j} = \\sum_{i\\ne j} b_i (X^T X)_{i,j} + \\sum_{i\\ne j} (X^T X)_{j,i} b_i + 2 (X^T X)_{j,j} b_j  - 2\\sum_{i} y_i X_{i,j}\n",
    "\\end{equation}\n",
    "\n",
    "Putting this in matrix form, we obtain\n",
    "\\begin{equation}\n",
    "J_f(b) =  \\frac{1}{n}\\big( b^T (X^T X) + b^T (X^T X)^T - 2y^T X\\big) = \\frac{2}{n} b^T (X^T X) -\\frac{2}{n}y^T X\n",
    "\\end{equation}\n",
    "\n",
    "So we can write $J_f(b) = \\frac{2}{n} b^T (X^T X) -\\frac{2}{n} y^T X$"
   ]
  },
  {
   "cell_type": "code",
   "execution_count": 8,
   "metadata": {},
   "outputs": [],
   "source": [
    "def solve_lstsq_opt(X, y):\n",
    "    \"\"\"\n",
    "    Solves the least squares problem using the minimization method\n",
    "    minimize_b (1/n * la.norm(X * b - y)**2)\n",
    "    \"\"\"\n",
    "    \n",
    "    p = np.shape(X)[1]\n",
    "    \n",
    "    # I'm using g instead of b, cause I already have a 'b' defined in previous cells \n",
    "    # and I think the notebook was getting confused\n",
    "    \n",
    "    # Define the function to be minimized\n",
    "    f = lambda g : (1/n) * np.dot(X @ g - y, X @ g - y)\n",
    "    \n",
    "    # Define its jacobian\n",
    "    j = lambda g : (2/n) * np.dot(g, X.T @ X) - (2/n) * np.dot(y, X)\n",
    "    \n",
    "    # Solve the minimization problem using the function and the jacobian\n",
    "    sol = opt.minimize(f, np.zeros(p), jac=j)\n",
    "    \n",
    "    return sol.x"
   ]
  },
  {
   "cell_type": "markdown",
   "metadata": {},
   "source": [
    "#### Check Your Work\n",
    "\n",
    "Generate a few random problems to test that `solve_lstsq_opt` agrees with `solve_lstsq_qr` and `solve_lstsq_normal` in part A.  Use the same tolerance for checking."
   ]
  },
  {
   "cell_type": "code",
   "execution_count": 9,
   "metadata": {},
   "outputs": [],
   "source": [
    "# Initialize error lists for each method\n",
    "err1 = []\n",
    "err2 = []\n",
    "\n",
    "# Loops over the functions 3 times\n",
    "for i in range(5):\n",
    "\n",
    "    # Find random integer for n and p where p < n\n",
    "    n = np.random.randint(5, 50)\n",
    "    p = np.random.randint(1, n-1)\n",
    "\n",
    "    # Generate the least squares problem\n",
    "    X, y, b = gen_lstsq(n, p)\n",
    "    \n",
    "    # Solve the problem using each method\n",
    "    bhat_qr = solve_lstsq_qr(X, y)\n",
    "    bhat_n = solve_lstsq_normal(X, y)\n",
    "    bhat_opt = solve_lstsq_opt(X, y)\n",
    "\n",
    "    # Compare the opt method to each of the other two and check that the errors are smaller than the tolerance\n",
    "    err1.append(la.norm(bhat_opt - bhat_n, ord=2))\n",
    "    assert err1[i] < 1e-4, \"Error larger than 1e-4\"\n",
    "\n",
    "    err2.append(la.norm(bhat_opt - bhat_qr, ord=2))\n",
    "    assert err2[i] < 1e-4, \"Error larger than 1e-4\""
   ]
  },
  {
   "cell_type": "markdown",
   "metadata": {},
   "source": [
    "### Discussion 2\n",
    "\n",
    "How fast is `solve_lstsq_opt` compared to the functions you wrote in part A?  Give some justification for what you see."
   ]
  },
  {
   "cell_type": "code",
   "execution_count": 10,
   "metadata": {},
   "outputs": [
    {
     "name": "stdout",
     "output_type": "stream",
     "text": [
      "Time for lstsq_qr 0.0005023479461669922 sec.\n",
      "Time for lstsq_normal 0.0002269744873046875 sec.\n",
      "Time for lstsq_opt 0.003991365432739258 sec.\n"
     ]
    }
   ],
   "source": [
    "# Generate a least squares problem\n",
    "n = 100\n",
    "p = 50\n",
    "X, y, b = gen_lstsq(n, p)\n",
    "\n",
    "# Calculate time for QR factorization method\n",
    "t0 = time.time()\n",
    "bhat_qr = solve_lstsq_qr(X, y)\n",
    "t1 = time.time()\n",
    "print(\"Time for lstsq_qr {} sec.\".format(t1 - t0))\n",
    "\n",
    "# Calcualte time for normal equation method\n",
    "t2 = time.time()\n",
    "bhat_n = solve_lstsq_normal(X, y)\n",
    "t3 = time.time()\n",
    "print(\"Time for lstsq_normal {} sec.\".format(t3 - t2))\n",
    "\n",
    "# Calculate time for minimization method\n",
    "t4 = time.time()\n",
    "bhat_opt = solve_lstsq_opt(X, y)\n",
    "t5 = time.time()\n",
    "print(\"Time for lstsq_opt {} sec.\".format(t5 - t4))\n"
   ]
  },
  {
   "cell_type": "markdown",
   "metadata": {},
   "source": [
    "---\n",
    "solve_lstsq_opt is slower than the two functions I wrote in part A"
   ]
  },
  {
   "cell_type": "markdown",
   "metadata": {},
   "source": [
    "### Scikit Learn\n",
    "\n",
    "Use [`sklearn.linear_model.LinearRegression`](https://scikit-learn.org/stable/modules/generated/sklearn.linear_model.LinearRegression.html#sklearn.linear_model.LinearRegression) to solve the linear regression problem. You can get the vector `bhat` from `model.coef_`\n",
    "\n",
    "Make a plot for the MSE like you did above using `LinearRegression` instead of a `solve_lstsq` function.  Set the keyword `fit_intercept=False`."
   ]
  },
  {
   "cell_type": "code",
   "execution_count": 11,
   "metadata": {},
   "outputs": [
    {
     "data": {
      "image/png": "[encoded data removed]",
      "text/plain": [
       "<Figure size 432x288 with 1 Axes>"
      ]
     },
     "metadata": {
      "needs_background": "light"
     },
     "output_type": "display_data"
    }
   ],
   "source": [
    "from sklearn.linear_model import LinearRegression\n",
    "\n",
    "# Initialize parameters and lists\n",
    "sig = np.logspace(-4, 1)\n",
    "MSE_LR = []\n",
    "n = 100\n",
    "p = 50\n",
    "N = 100\n",
    "\n",
    "# Loop over values in sig\n",
    "for s in sig:\n",
    "    \n",
    "    # Generate least squares problem\n",
    "    X, y, b = gen_lstsq(n, p)\n",
    "    \n",
    "    # Create a linear regression model and fit it to our least squares data\n",
    "    model = LinearRegression(fit_intercept=False)\n",
    "    model.fit(X,y)\n",
    "    \n",
    "    # Extract bhat from the coef_ attribute\n",
    "    bhat_LR = model.coef_\n",
    "    \n",
    "    # Append the MSE of the linear regression bhat (bhat_LR) to the list \n",
    "    MSE_LR.append(mse(b, bhat_LR, N, s))\n",
    "    \n",
    "# Plot MSE_LR against the values of sig\n",
    "plt.plot(sig, MSE_LR, label='LinearRegression')\n",
    "plt.title('Mean Square Error vs Noise')\n",
    "plt.xlabel('sig')\n",
    "plt.ylabel('MSE')\n",
    "plt.xscale('log')\n",
    "plt.yscale('log')\n",
    "plt.legend()\n",
    "plt.show()"
   ]
  },
  {
   "cell_type": "markdown",
   "metadata": {},
   "source": [
    "## Problem 1 - Ridge Regression (15 points)\n",
    "\n",
    "We'll now turn to the problem of what to do when `n < p` (there are fewer observations than features).  In this case we can solve $X * b = y$ exactly, but there are many possible values of $b$ which can satisfy the equation.\n",
    "\n",
    "The normal equations are singular, and the $R$ term of the QR factorization is not invertible in this case.  We need to do something else.\n",
    "\n",
    "Ridge regression seeks to solve the following optimization problem:\n",
    "\n",
    "\\begin{equation}\n",
    "\\mathop{\\mathsf{minimize}}_b \\frac{1}{n}\\|X*b - y\\|_2^2 + \\lambda \\|b\\|_2^2\n",
    "\\end{equation}\n",
    "\n",
    "$\\lambda$ is a parameter you can choose to \"regularize\" the problem which you can choose.\n",
    "\n",
    "### Optimization\n",
    "\n",
    "Use `scipy.optimize.minimize` to minimize the above optimization problem.  Wrap this in a function `solve_ridge_opt(X, y, lam=0.1)` (`lam` should be provided as a keyword argument for the variable $\\lambda$).\n",
    "\n",
    "What is the Jacobian for the objective function for the minimization problem?  Incorporate this into your optimization problem.  Hint: differentiation is linear, so you just need to add a term to the Jacobian in Problem 0 based on the Jacobian of\n",
    "\\begin{equation}\n",
    "\\lambda \\|b\\|_2^2 = \\lambda b^T b = \\lambda \\sum_i b_i^2\n",
    "\\end{equation}\n",
    "\n",
    "---\n",
    "Jacobian:\n",
    "\\begin{equation}\n",
    "\\frac{\\partial f}{\\partial b_j} = \\frac{\\partial}{\\partial b_j} \\lambda \\sum_i b_{i}^2 \n",
    "= 2 \\lambda \\sum_i b_i \\delta_{ij} \n",
    "= 2 \\lambda b_j\n",
    "\\end{equation}\n",
    "$ J_f(b) = 2\\lambda b $"
   ]
  },
  {
   "cell_type": "code",
   "execution_count": 12,
   "metadata": {},
   "outputs": [],
   "source": [
    "def solve_ridge_opt(X, y, lam=0.1):\n",
    "    \"\"\"\n",
    "    Solves the optimization problem using ridge regression\n",
    "    minimize_b (1/n * la.norm(X * b - y)**2) + lambda * la.norm(b)**2\n",
    "    \"\"\"\n",
    "    \n",
    "    p = np.shape(X)[1]\n",
    "\n",
    "    # Define the function to be minimized\n",
    "    f = lambda g : (1/n) * np.dot(X @ g - y, X @ g - y) + lam * np.dot(g, g)\n",
    "    \n",
    "    # Define its jacobian\n",
    "    j = lambda g : (2/n) * np.dot(g, X.T @ X) - (2/n) * np.dot(y, X) + 2*lam*g\n",
    "    \n",
    "    # Solves the optimization problem using the function and jacobian\n",
    "    sol = opt.minimize(f, np.zeros(p), jac=j)\n",
    "    \n",
    "    return sol.x"
   ]
  },
  {
   "cell_type": "markdown",
   "metadata": {},
   "source": [
    "### Compute the MSE\n",
    "\n",
    "Set `n = 50`, `p=100`, and `sig=0.1`.  Make a plot that displays the MSE of `bhat` computed using `solve_ridge_opt` as `lam` varies between `1e-4` and `1e2`.  Use a `semilogx` plot."
   ]
  },
  {
   "cell_type": "code",
   "execution_count": 13,
   "metadata": {},
   "outputs": [
    {
     "data": {
      "image/png": "[encoded data removed]",
      "text/plain": [
       "<Figure size 432x288 with 1 Axes>"
      ]
     },
     "metadata": {
      "needs_background": "light"
     },
     "output_type": "display_data"
    }
   ],
   "source": [
    "# Initialize parameters and lists\n",
    "n = 50\n",
    "p = 100\n",
    "sig = 0.1\n",
    "N = 100 # default\n",
    "lam = np.logspace(-4, 2)\n",
    "MSE_ro = []\n",
    "\n",
    "# Loop over values of lambda\n",
    "for l in lam:\n",
    "    # Generate least squares problem\n",
    "    X, y, b = gen_lstsq(n, p)\n",
    "    \n",
    "    # Solve the problem using ridge optimization\n",
    "    bhat_ro = solve_ridge_opt(X, y, lam=l)\n",
    "    \n",
    "    # Append the MSEs of ridge optimization bhat (bhat_ro) to their list\n",
    "    MSE_ro.append(mse(b, bhat_ro , N, sig))\n",
    "\n",
    "\n",
    "# Plot the MSE against he values of lambda\n",
    "plt.semilogx(lam, MSE_ro, label='Ridge Optimization')\n",
    "plt.title('Mean Square Error vs Noise')\n",
    "plt.xlabel('$\\lambda$')\n",
    "plt.ylabel('MSE')\n",
    "plt.legend()\n",
    "plt.show()"
   ]
  },
  {
   "cell_type": "markdown",
   "metadata": {},
   "source": [
    "### Scikit Learn\n",
    "\n",
    "Use [`sklearn.linear_model.Ridge`](https://scikit-learn.org/stable/modules/generated/sklearn.linear_model.Ridge.html) to solve the Ridge regression problem (note that this uses the keyword `alpha` where we have used `lam`). You can get the vector `bhat` from `model.coef_`\n",
    "\n",
    "Make a plot for the MSE like you did above using `Ridge` instead of your `solve_ridge_opt` function.  In addition to the keyword `alpha`, set `fit_intercept=False`"
   ]
  },
  {
   "cell_type": "code",
   "execution_count": 14,
   "metadata": {},
   "outputs": [
    {
     "data": {
      "image/png": "[encoded data removed]",
      "text/plain": [
       "<Figure size 432x288 with 1 Axes>"
      ]
     },
     "metadata": {
      "needs_background": "light"
     },
     "output_type": "display_data"
    }
   ],
   "source": [
    "from sklearn.linear_model import Ridge\n",
    "\n",
    "# Initialize parameters and lists\n",
    "sig = 0.1\n",
    "n = 50\n",
    "p = 100\n",
    "N = 100 # default\n",
    "lam = np.logspace(-4, 2)\n",
    "MSE_R = []\n",
    "\n",
    "# Loop over values of lambda\n",
    "for l in lam:\n",
    "    # Generate least squares problem\n",
    "    X, y, b = gen_lstsq(n, p)\n",
    "    \n",
    "    # Create a Ridge regression model and fit it to our least squares data\n",
    "    model = Ridge(alpha = l, fit_intercept=False)\n",
    "    model.fit(X,y)\n",
    "    \n",
    "    # Extract bhat from the coef_ attribute\n",
    "    bhat_R = model.coef_\n",
    "    \n",
    "    # Append the MSEs of Ridge regression bhat (bhat_R) to its list\n",
    "    MSE_R.append(mse(b, bhat_R , N, sig))\n",
    "    \n",
    "    \n",
    "# Plot the MSE against the values of lambda\n",
    "plt.semilogx(lam, MSE_R, label='Ridge Regression')\n",
    "plt.title('Mean Square Error vs Noise')\n",
    "plt.xlabel('$\\lambda$')\n",
    "plt.ylabel('MSE')\n",
    "plt.legend()\n",
    "plt.show()"
   ]
  },
  {
   "cell_type": "markdown",
   "metadata": {},
   "source": [
    "## Problem 2 - Lasso (15 points)\n",
    "\n",
    "The Lasso is L1-regularized regression.  This is often used when `p > n`, and when the parameter vector `b` is assumed to be sparse, meaning that it has few non-zero entries.\n",
    "\n",
    "The minimization problem is\n",
    "\\begin{equation}\n",
    "\\mathop{\\mathsf{minimize}}_b \\frac{1}{n} \\|X * b - y\\|_2^2 + \\lambda \\|b\\|_1\n",
    "\\end{equation}\n",
    "\n",
    "Where again, $\\lambda$ can be chosen."
   ]
  },
  {
   "cell_type": "markdown",
   "metadata": {},
   "source": [
    "### Generate Data\n",
    "\n",
    "We need to modify our generation of data to produce sparse `b`.  Write a function `gen_lstsq_sparse(n, p, sig=0.1, k=10)`, which generates `X` and `y` in the same way as `gen_lstsq`, but now `b` is generated to be a vector of length `p` with `k` random entries set to 1, and all other entries set to 0. Hint: look at `np.random.choice` for generating `k` random integers without replacement."
   ]
  },
  {
   "cell_type": "code",
   "execution_count": 15,
   "metadata": {},
   "outputs": [],
   "source": [
    "def gen_lstsq_sparse(n, p, sig=0.1, k=10):\n",
    "    \"\"\"\n",
    "    Generates a linear least squares problem y = X @ b \n",
    "    where b is the ground truth solution and is sparse\n",
    "    \"\"\"\n",
    "    \n",
    "    # Initialize arrays\n",
    "    X = np.random.randn(n,p)\n",
    "    b = np.zeros(p)\n",
    "    y = np.zeros(n)\n",
    "    \n",
    "    # Make b sparse by changing k random elements to 1\n",
    "    for i in range(k):\n",
    "        entry = np.random.choice(p, replace=False)\n",
    "        b[entry] = 1\n",
    "        \n",
    "    # Solve for y\n",
    "    for i in range(n):\n",
    "        y[i] = np.dot(X[i], b) + sig * np.random.randn()\n",
    "    \n",
    "    return X, y, b"
   ]
  },
  {
   "cell_type": "markdown",
   "metadata": {},
   "source": [
    "### Optimization\n",
    "\n",
    "Recall we want to find `bhat` to solve\n",
    "\\begin{equation}\n",
    "\\mathop{\\mathsf{minimize}}_b \\frac{1}{n} \\|X * b - y\\|_2^2 + \\lambda \\|b\\|_1\n",
    "\\end{equation}\n",
    "\n",
    "Use `scipy.optimize.minimize` to minimize the above optimization problem.  Wrap this in a function `solve_lasso_opt(X, y, lam=0.1)` (`lam` should be provided as a keyword argument for the variable $\\lambda$).\n",
    "\n",
    "What is the Jacobian for the objective function for the minimization problem?  Incorporate this into your optimization problem.  Hint: differentiation is linear, so you just need to add a term to the Jacobian in Problem 0 based on the Jacobian of\n",
    "\\begin{equation}\n",
    "\\lambda \\|b\\|_1 = \\lambda \\sum_i |b_i|\n",
    "\\end{equation}\n",
    "\n",
    "If $b_i$ is zero, then take $\\partial_i |b_i| = 0$ (this is in the [subgradient](https://en.wikipedia.org/wiki/Subderivative)). Hint 2: look at `np.sign` for implementation\n",
    "\n",
    "---\n",
    "Jacobian:\n",
    "\\begin{equation}\n",
    "\\frac{\\partial f}{\\partial b_j} = \\frac{\\partial}{\\partial b_j} \\lambda \\sum_i |b_{i}|\n",
    "= \\lambda \\sum_i \\frac{\\partial |b_i|}{\\partial b_j} \\delta_{ij} \n",
    "= \\pm \\lambda\n",
    "\\end{equation} \n",
    "I include $\\pm$ because if b_i and b_j have different signs then the derivative is -1, but if they have the same sign then the derivative is 1. Also if b_i = 0, then the derivative is 0. "
   ]
  },
  {
   "cell_type": "code",
   "execution_count": 16,
   "metadata": {},
   "outputs": [],
   "source": [
    "def solve_lasso_opt(X, y, lam=0.1):\n",
    "    \"\"\"\n",
    "    Solves the optimization problem using lasso (L-1 regularized) regression\n",
    "    minimize_b (1/n * la.norm(X * b - y)**2) + lambda * la.norm(b, ord=1)\n",
    "    \"\"\"\n",
    "    \n",
    "    p = np.shape(X)[1]\n",
    "\n",
    "    # Define the function to be minimized\n",
    "    f = lambda g : (1/n) * np.dot(X @ g - y, X @ g - y) + lam * la.norm(g, ord=1)\n",
    "    \n",
    "    # Define its jacobian\n",
    "    j = lambda g : (2/n) * np.dot(g, X.T @ X) - (2/n) * np.dot(y, X) + lam * np.sign(g)\n",
    "    \n",
    "    # Solve the optimization problem using the function and its jacobian\n",
    "    sol = opt.minimize(f, np.zeros(p), jac=j)\n",
    "    \n",
    "    return sol.x"
   ]
  },
  {
   "cell_type": "markdown",
   "metadata": {},
   "source": [
    "### Compute the MSE\n",
    "\n",
    "Set `n = 50`, `p=100`,`sig=0.1`, and `k=10` to generate a problem using `gen_lstsq_sparse`.  Make a plot that displays the MSE of `bhat` computed using `solve_lasso_opt` as `lam` varies between `1e-4` and `1e2`.  Use a `semilogx` plot."
   ]
  },
  {
   "cell_type": "code",
   "execution_count": 17,
   "metadata": {},
   "outputs": [
    {
     "data": {
      "image/png": "[encoded data removed]",
      "text/plain": [
       "<Figure size 432x288 with 1 Axes>"
      ]
     },
     "metadata": {
      "needs_background": "light"
     },
     "output_type": "display_data"
    }
   ],
   "source": [
    "# Initialize parameters and lists\n",
    "sig = 0.1\n",
    "n = 50\n",
    "p = 100\n",
    "N = 100 # default\n",
    "k = 10 \n",
    "lam = np.logspace(-4, 2)\n",
    "MSE_lasso = []\n",
    "\n",
    "# Loop over values of lambda\n",
    "for l in lam:\n",
    "    \n",
    "    # Generate a sparse least squares problem\n",
    "    X, y, b = gen_lstsq_sparse(n, p, sig, k)\n",
    "    \n",
    "    # Solve the problem using lasso optimization\n",
    "    bhat_lasso = solve_lasso_opt(X, y, lam=l)\n",
    "    \n",
    "    # Append the MSEs of lasso optimization bhat (bhat_lasso) to the list\n",
    "    MSE_lasso.append(mse(b, bhat_lasso , N, sig))\n",
    "    \n",
    "    \n",
    "# Plot the MSe against the values of lambda\n",
    "plt.semilogx(lam, MSE_lasso, label='Lasso Optimization')\n",
    "plt.title('Mean Square Error vs Noise')\n",
    "plt.xlabel('$\\lambda$')\n",
    "plt.ylabel('MSE')\n",
    "plt.legend()\n",
    "plt.show()\n"
   ]
  },
  {
   "cell_type": "markdown",
   "metadata": {},
   "source": [
    "### Scikit Learn\n",
    "\n",
    "Use [`sklearn.linear_model.Lasso`](https://scikit-learn.org/stable/modules/generated/sklearn.linear_model.Lasso.html#sklearn.linear_model.Lasso) to solve the Lasso regression problem (note that this uses the keyword `alpha` where we have used `lam`). You can get the vector `bhat` from `model.coef_`\n",
    "\n",
    "Make a plot for the MSE like you did above using `Lasso` instead of your `solve_lasso_opt` function.  In addition to the keyword `alpha`, set `fit_intercept=False`"
   ]
  },
  {
   "cell_type": "code",
   "execution_count": 18,
   "metadata": {},
   "outputs": [
    {
     "name": "stderr",
     "output_type": "stream",
     "text": [
      "/home/tokateid/jupyter_env/jupyter_env/lib/python3.8/site-packages/sklearn/linear_model/_coordinate_descent.py:647: ConvergenceWarning: Objective did not converge. You might want to increase the number of iterations, check the scale of the features or consider increasing regularisation. Duality gap: 4.240e-02, tolerance: 2.835e-02\n",
      "  model = cd_fast.enet_coordinate_descent(\n",
      "/home/tokateid/jupyter_env/jupyter_env/lib/python3.8/site-packages/sklearn/linear_model/_coordinate_descent.py:647: ConvergenceWarning: Objective did not converge. You might want to increase the number of iterations, check the scale of the features or consider increasing regularisation. Duality gap: 7.667e-02, tolerance: 3.872e-02\n",
      "  model = cd_fast.enet_coordinate_descent(\n",
      "/home/tokateid/jupyter_env/jupyter_env/lib/python3.8/site-packages/sklearn/linear_model/_coordinate_descent.py:647: ConvergenceWarning: Objective did not converge. You might want to increase the number of iterations, check the scale of the features or consider increasing regularisation. Duality gap: 1.027e-01, tolerance: 5.318e-02\n",
      "  model = cd_fast.enet_coordinate_descent(\n",
      "/home/tokateid/jupyter_env/jupyter_env/lib/python3.8/site-packages/sklearn/linear_model/_coordinate_descent.py:647: ConvergenceWarning: Objective did not converge. You might want to increase the number of iterations, check the scale of the features or consider increasing regularisation. Duality gap: 1.366e-01, tolerance: 7.328e-02\n",
      "  model = cd_fast.enet_coordinate_descent(\n",
      "/home/tokateid/jupyter_env/jupyter_env/lib/python3.8/site-packages/sklearn/linear_model/_coordinate_descent.py:647: ConvergenceWarning: Objective did not converge. You might want to increase the number of iterations, check the scale of the features or consider increasing regularisation. Duality gap: 1.218e-01, tolerance: 5.823e-02\n",
      "  model = cd_fast.enet_coordinate_descent(\n",
      "/home/tokateid/jupyter_env/jupyter_env/lib/python3.8/site-packages/sklearn/linear_model/_coordinate_descent.py:647: ConvergenceWarning: Objective did not converge. You might want to increase the number of iterations, check the scale of the features or consider increasing regularisation. Duality gap: 1.186e-01, tolerance: 3.390e-02\n",
      "  model = cd_fast.enet_coordinate_descent(\n",
      "/home/tokateid/jupyter_env/jupyter_env/lib/python3.8/site-packages/sklearn/linear_model/_coordinate_descent.py:647: ConvergenceWarning: Objective did not converge. You might want to increase the number of iterations, check the scale of the features or consider increasing regularisation. Duality gap: 8.208e-02, tolerance: 4.183e-02\n",
      "  model = cd_fast.enet_coordinate_descent(\n",
      "/home/tokateid/jupyter_env/jupyter_env/lib/python3.8/site-packages/sklearn/linear_model/_coordinate_descent.py:647: ConvergenceWarning: Objective did not converge. You might want to increase the number of iterations, check the scale of the features or consider increasing regularisation. Duality gap: 1.518e-01, tolerance: 6.246e-02\n",
      "  model = cd_fast.enet_coordinate_descent(\n"
     ]
    },
    {
     "data": {
      "image/png": "[encoded data removed]",
      "text/plain": [
       "<Figure size 432x288 with 1 Axes>"
      ]
     },
     "metadata": {
      "needs_background": "light"
     },
     "output_type": "display_data"
    }
   ],
   "source": [
    "from sklearn.linear_model import Lasso\n",
    "\n",
    "# Initialize the parameters and lists\n",
    "sig = 0.1\n",
    "n = 50\n",
    "p = 100\n",
    "N = 100 # default\n",
    "k = 10\n",
    "lam = np.logspace(-4, 2)\n",
    "MSE_L = []\n",
    "\n",
    "# Loop over values of lambda\n",
    "for l in lam:\n",
    "    # Generate a sparse least squares problem\n",
    "    X, y, b = gen_lstsq_sparse(n, p, sig, k)\n",
    "    \n",
    "    # Create a Lasso regression model and fit it to our data\n",
    "    model = Lasso(alpha = l, fit_intercept=False)\n",
    "    model.fit(X,y)\n",
    "    \n",
    "    # Extract bhat from the attribute coef_\n",
    "    bhat_L = model.coef_\n",
    "    \n",
    "    # Append the MSEs of the Lasso regression bhat (bhat_L) to the list\n",
    "    MSE_L.append(mse(b, bhat_L , N, sig))\n",
    "    \n",
    "    \n",
    "# Plot the MSE against the values of lambda\n",
    "plt.semilogx(lam, MSE_L, label='Lasso Regression')\n",
    "plt.title('Mean Square Error vs Noise')\n",
    "plt.xlabel('$\\lambda$')\n",
    "plt.ylabel('MSE')\n",
    "plt.legend()\n",
    "plt.show()\n",
    "\n",
    "# I don't know why there's all these warnings (sorry about that)"
   ]
  },
  {
   "cell_type": "markdown",
   "metadata": {},
   "source": [
    "## Problem 3 - Elastic Net (20 points)\n",
    "\n",
    "Another option when `p > n` is the [Elastic Net]() which combines L1 and L2 regularization.\n",
    "\n",
    "\\begin{equation}\n",
    "\\mathop{\\mathsf{minimize}}_b \\frac{1}{n} \\|X * b - y\\|_2^2 + \\lambda_1 \\|b\\|_1 + \\lambda_2 \\|b\\|_2^2\n",
    "\\end{equation}\n",
    "Where we get to choose $\\lambda_1$ and $\\lambda_2$.\n",
    "\n",
    "You can find a function that does this in [`sklearn.linear_model.ElasticNet`](https://scikit-learn.org/stable/modules/generated/sklearn.linear_model.ElasticNet.html#sklearn.linear_model.ElasticNet).\n",
    "\n",
    "In this problem, you'll write a class that emulates the behavior of a Scikit learn class. Use `scipy.optimize.minimize` to solve the optimization problem.\n"
   ]
  },
  {
   "cell_type": "markdown",
   "metadata": {},
   "source": [
    "### Jacobian\n",
    "\n",
    "Give an expression for the Jacobian for the optimization objective function.  You've already done all the hard work for this in problems 1 and 2\n",
    "\n",
    "---\n",
    "\\begin{equation}\n",
    "J_f(b) = \\frac{2}{n} b^T (X^T X) -\\frac{2}{n} y^T X \\pm \\lambda_1 + 2 \\lambda_2 b\n",
    "\\end{equation}"
   ]
  },
  {
   "cell_type": "markdown",
   "metadata": {},
   "source": [
    "### Write the Class\n",
    "\n",
    "Define a Python Class `ElasticNet`.  When you initialize the class you should be able to provide keyword arguments `lam1` for $\\lambda_1$ and `lam2` for $\\lambda_2$.  Give each these keyword arguments a default value of `0.5`.\n",
    "\n",
    "In addition to `__init__`, your class should provide two methods:\n",
    "1. `fit(X, y)` - sets an attribute `bhat` which solves the optimization problem (use the parameters `lam1` and `lam2` provided in initialization).  Use `scipy.optimize.minimize`\n",
    "2. `predict(X)` - predict values of `y` as `X @ bhat`"
   ]
  },
  {
   "cell_type": "code",
   "execution_count": 19,
   "metadata": {},
   "outputs": [],
   "source": [
    "import sklearn.linear_model\n",
    "\n",
    "class ElasticNet():\n",
    "    \"\"\"\n",
    "    A class that solves least squares problems using L1 and L2 regularization and emulates sklearn.linear_model.ElasticNet\n",
    "    \"\"\"\n",
    "    \n",
    "    def __init__(self, lam1=0.5, lam2=0.5):\n",
    "        \"\"\"\n",
    "        Adds lam1 and lam2 to the class attributes\n",
    "        \"\"\"\n",
    "        \n",
    "        self.lam1 = lam1\n",
    "        self.lam2 = lam2\n",
    "\n",
    "    def fit(self, X, y):\n",
    "        \"\"\"\n",
    "        Fits the least squares problem data using our optimization minimization model\n",
    "        \"\"\"\n",
    "        \n",
    "        p = np.shape(X)[1]\n",
    "\n",
    "        # Define the function to be minimized (using lam1 and lam2)\n",
    "        f = lambda g : (1/n) * np.dot(X @ g - y, X @ g - y) + self.lam1 * la.norm(g, ord=1) + self.lam2 * np.dot(g, g)\n",
    "    \n",
    "        # Define the jacobian\n",
    "        j = lambda g : (2/n) * np.dot(g, X.T @ X) - (2/n) * np.dot(y, X) + self.lam1 * np.sign(g) + 2 * self.lam2 * g\n",
    "    \n",
    "        # Solve the problem using our function and jacobian\n",
    "        bhat = opt.minimize(f, np.zeros(p), jac=j)\n",
    "        \n",
    "        # Save the solution (bhat) as an attribute to the class\n",
    "        self.bhat = bhat.x\n",
    "        \n",
    "        return self.bhat\n",
    "        \n",
    "    \n",
    "    def predict(self, X):\n",
    "        \"\"\"\n",
    "        Predicts the value of y given a matrix X and the fitted solution for bhat\n",
    "        y = X @ bhat\n",
    "        \"\"\"\n",
    "        \n",
    "        # Calculate the solution y and saves it as an attribute to the class\n",
    "        self.y = X @ self.bhat\n",
    "        \n",
    "        return self.y"
   ]
  },
  {
   "cell_type": "markdown",
   "metadata": {},
   "source": [
    "### Compute the MSE\n",
    "\n",
    "Set `n=50`, `p=100`,`sig=0.1`, and `k=10` to generate a problem using `gen_lstsq_sparse`.  \n",
    "\n",
    "Set `n=50`, `p=100`, and `sig=0.1` to generate a problem using `gen_lstsq`.\n",
    "\n",
    "Make a plot that displays the MSE of the model computed using your `ElasticNet` class using `lam1=lam2` varying between `1e-4` and `1e2` for each of the generated problems (your plot should have 2 lines).  Give your plot a title, axis labels, and a legend."
   ]
  },
  {
   "cell_type": "code",
   "execution_count": 20,
   "metadata": {},
   "outputs": [
    {
     "data": {
      "image/png": "[encoded data removed]",
      "text/plain": [
       "<Figure size 432x288 with 1 Axes>"
      ]
     },
     "metadata": {
      "needs_background": "light"
     },
     "output_type": "display_data"
    }
   ],
   "source": [
    "# Initialize parameters and lists\n",
    "n = 50\n",
    "p = 100\n",
    "sig = 0.1\n",
    "k = 10\n",
    "N = 100 #default\n",
    "\n",
    "lam1 = lam2 = np.logspace(-4,2)\n",
    "\n",
    "MSE_EN = []\n",
    "MSE_EN_s = []\n",
    "\n",
    "\n",
    "# Loop over values of lambda where lam1 = lam2\n",
    "for l in lam1:\n",
    "    \n",
    "    # Generate two least squares problems (where one of them is sparse)\n",
    "    X1, y1, b1 = gen_lstsq(n, p, sig)\n",
    "    X2, y2, b2 = gen_lstsq_sparse(n, p, sig, k) # Sparse\n",
    "    \n",
    "    # Create an ElasticNet model and fit it to each set of data\n",
    "    model = ElasticNet(lam1=l, lam2=l)\n",
    "    bhat_1 = model.fit(X1,y1)\n",
    "    bhat_2 = model.fit(X2,y2) # Sparse\n",
    "    \n",
    "    # Append the MSEs of both solutions to their respective lists\n",
    "    MSE_EN.append(mse(b1, bhat_1 , N, sig))\n",
    "    MSE_EN_s.append(mse(b2, bhat_2 , N, sig)) # Sparse\n",
    "    \n",
    "    \n",
    "# Plot the MSEs against the values of lambda\n",
    "plt.semilogx(lam1, MSE_EN, label='ElasticNet')\n",
    "plt.semilogx(lam1, MSE_EN_s, label='ElasticNet with Sparse entries')\n",
    "plt.title('Mean Square Error vs Noise')\n",
    "plt.xlabel('$\\lambda$')\n",
    "plt.ylabel('MSE')\n",
    "plt.legend()\n",
    "plt.show()"
   ]
  },
  {
   "cell_type": "markdown",
   "metadata": {},
   "source": [
    "## Problem 4 - Real Data (20 points)\n",
    "\n",
    "In this problem you'll use the [Wine Quality Data Set](https://archive.ics.uci.edu/ml/machine-learning-databases/wine-quality/).  We'll focus on the red wines found in [`winequality-red.csv`](https://archive.ics.uci.edu/ml/machine-learning-databases/wine-quality/winequality-red.csv).  The goal is to train a machine learning model that will predict the wine quality from a variety of other features."
   ]
  },
  {
   "cell_type": "markdown",
   "metadata": {},
   "source": [
    "### Load the data set\n",
    "\n",
    "Load the wines in `windquality-red.csv` into a Pandas data frame. Note that this file has column labels, which are interpreted in the data set documentation:\n",
    "\n",
    "Input variables (based on physicochemical tests):\n",
    "1. fixed acidity\n",
    "2. volatile acidity\n",
    "3. citric acid\n",
    "4. residual sugar\n",
    "5. chlorides\n",
    "6. free sulfur dioxide\n",
    "7. total sulfur dioxide\n",
    "8. density\n",
    "9. pH\n",
    "10. sulphates\n",
    "11. alcohol\n",
    "\n",
    "Output variable (based on sensory data):\n",
    "\n",
    "12. quality (score between 0 and 10)\n",
    "\n",
    "Note that this file uses semi-colons `;` to delimit values.  You can use `delimiter=';'` as a keyword argument."
   ]
  },
  {
   "cell_type": "code",
   "execution_count": 21,
   "metadata": {},
   "outputs": [
    {
     "data": {
      "text/html": [
       "<div>\n",
       "<style scoped>\n",
       "    .dataframe tbody tr th:only-of-type {\n",
       "        vertical-align: middle;\n",
       "    }\n",
       "\n",
       "    .dataframe tbody tr th {\n",
       "        vertical-align: top;\n",
       "    }\n",
       "\n",
       "    .dataframe thead th {\n",
       "        text-align: right;\n",
       "    }\n",
       "</style>\n",
       "<table border=\"1\" class=\"dataframe\">\n",
       "  <thead>\n",
       "    <tr style=\"text-align: right;\">\n",
       "      <th></th>\n",
       "      <th>fixed acidity</th>\n",
       "      <th>volatile acidity</th>\n",
       "      <th>citric acid</th>\n",
       "      <th>residual sugar</th>\n",
       "      <th>chlorides</th>\n",
       "      <th>free sulfur dioxide</th>\n",
       "      <th>total sulfur dioxide</th>\n",
       "      <th>density</th>\n",
       "      <th>pH</th>\n",
       "      <th>sulphates</th>\n",
       "      <th>alcohol</th>\n",
       "      <th>quality</th>\n",
       "    </tr>\n",
       "  </thead>\n",
       "  <tbody>\n",
       "    <tr>\n",
       "      <th>0</th>\n",
       "      <td>7.4</td>\n",
       "      <td>0.700</td>\n",
       "      <td>0.00</td>\n",
       "      <td>1.9</td>\n",
       "      <td>0.076</td>\n",
       "      <td>11.0</td>\n",
       "      <td>34.0</td>\n",
       "      <td>0.99780</td>\n",
       "      <td>3.51</td>\n",
       "      <td>0.56</td>\n",
       "      <td>9.4</td>\n",
       "      <td>5</td>\n",
       "    </tr>\n",
       "    <tr>\n",
       "      <th>1</th>\n",
       "      <td>7.8</td>\n",
       "      <td>0.880</td>\n",
       "      <td>0.00</td>\n",
       "      <td>2.6</td>\n",
       "      <td>0.098</td>\n",
       "      <td>25.0</td>\n",
       "      <td>67.0</td>\n",
       "      <td>0.99680</td>\n",
       "      <td>3.20</td>\n",
       "      <td>0.68</td>\n",
       "      <td>9.8</td>\n",
       "      <td>5</td>\n",
       "    </tr>\n",
       "    <tr>\n",
       "      <th>2</th>\n",
       "      <td>7.8</td>\n",
       "      <td>0.760</td>\n",
       "      <td>0.04</td>\n",
       "      <td>2.3</td>\n",
       "      <td>0.092</td>\n",
       "      <td>15.0</td>\n",
       "      <td>54.0</td>\n",
       "      <td>0.99700</td>\n",
       "      <td>3.26</td>\n",
       "      <td>0.65</td>\n",
       "      <td>9.8</td>\n",
       "      <td>5</td>\n",
       "    </tr>\n",
       "    <tr>\n",
       "      <th>3</th>\n",
       "      <td>11.2</td>\n",
       "      <td>0.280</td>\n",
       "      <td>0.56</td>\n",
       "      <td>1.9</td>\n",
       "      <td>0.075</td>\n",
       "      <td>17.0</td>\n",
       "      <td>60.0</td>\n",
       "      <td>0.99800</td>\n",
       "      <td>3.16</td>\n",
       "      <td>0.58</td>\n",
       "      <td>9.8</td>\n",
       "      <td>6</td>\n",
       "    </tr>\n",
       "    <tr>\n",
       "      <th>4</th>\n",
       "      <td>7.4</td>\n",
       "      <td>0.700</td>\n",
       "      <td>0.00</td>\n",
       "      <td>1.9</td>\n",
       "      <td>0.076</td>\n",
       "      <td>11.0</td>\n",
       "      <td>34.0</td>\n",
       "      <td>0.99780</td>\n",
       "      <td>3.51</td>\n",
       "      <td>0.56</td>\n",
       "      <td>9.4</td>\n",
       "      <td>5</td>\n",
       "    </tr>\n",
       "    <tr>\n",
       "      <th>...</th>\n",
       "      <td>...</td>\n",
       "      <td>...</td>\n",
       "      <td>...</td>\n",
       "      <td>...</td>\n",
       "      <td>...</td>\n",
       "      <td>...</td>\n",
       "      <td>...</td>\n",
       "      <td>...</td>\n",
       "      <td>...</td>\n",
       "      <td>...</td>\n",
       "      <td>...</td>\n",
       "      <td>...</td>\n",
       "    </tr>\n",
       "    <tr>\n",
       "      <th>1594</th>\n",
       "      <td>6.2</td>\n",
       "      <td>0.600</td>\n",
       "      <td>0.08</td>\n",
       "      <td>2.0</td>\n",
       "      <td>0.090</td>\n",
       "      <td>32.0</td>\n",
       "      <td>44.0</td>\n",
       "      <td>0.99490</td>\n",
       "      <td>3.45</td>\n",
       "      <td>0.58</td>\n",
       "      <td>10.5</td>\n",
       "      <td>5</td>\n",
       "    </tr>\n",
       "    <tr>\n",
       "      <th>1595</th>\n",
       "      <td>5.9</td>\n",
       "      <td>0.550</td>\n",
       "      <td>0.10</td>\n",
       "      <td>2.2</td>\n",
       "      <td>0.062</td>\n",
       "      <td>39.0</td>\n",
       "      <td>51.0</td>\n",
       "      <td>0.99512</td>\n",
       "      <td>3.52</td>\n",
       "      <td>0.76</td>\n",
       "      <td>11.2</td>\n",
       "      <td>6</td>\n",
       "    </tr>\n",
       "    <tr>\n",
       "      <th>1596</th>\n",
       "      <td>6.3</td>\n",
       "      <td>0.510</td>\n",
       "      <td>0.13</td>\n",
       "      <td>2.3</td>\n",
       "      <td>0.076</td>\n",
       "      <td>29.0</td>\n",
       "      <td>40.0</td>\n",
       "      <td>0.99574</td>\n",
       "      <td>3.42</td>\n",
       "      <td>0.75</td>\n",
       "      <td>11.0</td>\n",
       "      <td>6</td>\n",
       "    </tr>\n",
       "    <tr>\n",
       "      <th>1597</th>\n",
       "      <td>5.9</td>\n",
       "      <td>0.645</td>\n",
       "      <td>0.12</td>\n",
       "      <td>2.0</td>\n",
       "      <td>0.075</td>\n",
       "      <td>32.0</td>\n",
       "      <td>44.0</td>\n",
       "      <td>0.99547</td>\n",
       "      <td>3.57</td>\n",
       "      <td>0.71</td>\n",
       "      <td>10.2</td>\n",
       "      <td>5</td>\n",
       "    </tr>\n",
       "    <tr>\n",
       "      <th>1598</th>\n",
       "      <td>6.0</td>\n",
       "      <td>0.310</td>\n",
       "      <td>0.47</td>\n",
       "      <td>3.6</td>\n",
       "      <td>0.067</td>\n",
       "      <td>18.0</td>\n",
       "      <td>42.0</td>\n",
       "      <td>0.99549</td>\n",
       "      <td>3.39</td>\n",
       "      <td>0.66</td>\n",
       "      <td>11.0</td>\n",
       "      <td>6</td>\n",
       "    </tr>\n",
       "  </tbody>\n",
       "</table>\n",
       "<p>1599 rows × 12 columns</p>\n",
       "</div>"
      ],
      "text/plain": [
       "      fixed acidity  volatile acidity  citric acid  residual sugar  chlorides  \\\n",
       "0               7.4             0.700         0.00             1.9      0.076   \n",
       "1               7.8             0.880         0.00             2.6      0.098   \n",
       "2               7.8             0.760         0.04             2.3      0.092   \n",
       "3              11.2             0.280         0.56             1.9      0.075   \n",
       "4               7.4             0.700         0.00             1.9      0.076   \n",
       "...             ...               ...          ...             ...        ...   \n",
       "1594            6.2             0.600         0.08             2.0      0.090   \n",
       "1595            5.9             0.550         0.10             2.2      0.062   \n",
       "1596            6.3             0.510         0.13             2.3      0.076   \n",
       "1597            5.9             0.645         0.12             2.0      0.075   \n",
       "1598            6.0             0.310         0.47             3.6      0.067   \n",
       "\n",
       "      free sulfur dioxide  total sulfur dioxide  density    pH  sulphates  \\\n",
       "0                    11.0                  34.0  0.99780  3.51       0.56   \n",
       "1                    25.0                  67.0  0.99680  3.20       0.68   \n",
       "2                    15.0                  54.0  0.99700  3.26       0.65   \n",
       "3                    17.0                  60.0  0.99800  3.16       0.58   \n",
       "4                    11.0                  34.0  0.99780  3.51       0.56   \n",
       "...                   ...                   ...      ...   ...        ...   \n",
       "1594                 32.0                  44.0  0.99490  3.45       0.58   \n",
       "1595                 39.0                  51.0  0.99512  3.52       0.76   \n",
       "1596                 29.0                  40.0  0.99574  3.42       0.75   \n",
       "1597                 32.0                  44.0  0.99547  3.57       0.71   \n",
       "1598                 18.0                  42.0  0.99549  3.39       0.66   \n",
       "\n",
       "      alcohol  quality  \n",
       "0         9.4        5  \n",
       "1         9.8        5  \n",
       "2         9.8        5  \n",
       "3         9.8        6  \n",
       "4         9.4        5  \n",
       "...       ...      ...  \n",
       "1594     10.5        5  \n",
       "1595     11.2        6  \n",
       "1596     11.0        6  \n",
       "1597     10.2        5  \n",
       "1598     11.0        6  \n",
       "\n",
       "[1599 rows x 12 columns]"
      ]
     },
     "execution_count": 21,
     "metadata": {},
     "output_type": "execute_result"
    }
   ],
   "source": [
    "# Load the data from the csv file\n",
    "myDf = pd.read_csv(\"https://archive.ics.uci.edu/ml/machine-learning-databases/wine-quality/winequality-red.csv\", delimiter=';')\n",
    "myDf"
   ]
  },
  {
   "cell_type": "markdown",
   "metadata": {},
   "source": [
    "The first 11 columns will be features for the model (used in the design matrix `X`), and the last column (quality) is the quantity we're tyring to predict (the response `y`).\n",
    "\n",
    "### Split the Data in to Training and Testing Sets\n",
    "\n",
    "Split the data `X, y` into `X_train, y_train, X_test, y_test` using `sklearn`.  Use 70% of the data for training, and 30% of the data for testing.\n"
   ]
  },
  {
   "cell_type": "code",
   "execution_count": 22,
   "metadata": {},
   "outputs": [],
   "source": [
    "from sklearn.model_selection import train_test_split\n",
    "\n",
    "# Include all data in X except last column\n",
    "X = myDf[myDf.columns[:-1]]\n",
    "\n",
    "# Add last column of data to y\n",
    "y = myDf['quality']\n",
    "\n",
    "# Split the data into training sets and test sets\n",
    "X_train, X_test, y_train, y_test = train_test_split(X, y, test_size=0.3, random_state=0)"
   ]
  },
  {
   "cell_type": "markdown",
   "metadata": {},
   "source": [
    "### Train a Model and Measure Error\n",
    "\n",
    "Use [`sklearn.linear_model.LinearRegression`](https://scikit-learn.org/stable/modules/generated/sklearn.linear_model.LinearRegression.html#sklearn.linear_model.LinearRegression) to fit a linear regression model to your training data.\n",
    "\n",
    "Use [`sklearn.metrics.mean_squared_error`](https://scikit-learn.org/stable/modules/generated/sklearn.metrics.mean_squared_error.html#sklearn.metrics.mean_squared_error) to compute the MSE on your test set."
   ]
  },
  {
   "cell_type": "code",
   "execution_count": 23,
   "metadata": {},
   "outputs": [
    {
     "data": {
      "text/plain": [
       "0.400780366375006"
      ]
     },
     "execution_count": 23,
     "metadata": {},
     "output_type": "execute_result"
    }
   ],
   "source": [
    "from sklearn.linear_model import LinearRegression\n",
    "from sklearn.metrics import mean_squared_error\n",
    "\n",
    "# Create a LinearRegression model and fit it to the training set data\n",
    "model = LinearRegression()\n",
    "model.fit(X_train, y_train)\n",
    "\n",
    "# Predict the y values using the X test set\n",
    "y_pred = model.predict(X_test)\n",
    "\n",
    "# Compare the actual y values (y_test) to the predicted values (y_pred)\n",
    "mean_squared_error(y_test, y_pred)"
   ]
  },
  {
   "cell_type": "markdown",
   "metadata": {},
   "source": [
    "### Try Some Different Models\n",
    "\n",
    "Note: you don't need to know anything about these models.  You can just use the `fit` and `predict` methods, and the default parameters.\n",
    "\n",
    "Use the following `sklearn` classes to fit models and make predictions:\n",
    "* [`sklearn.ensemble.RandomForestRegressor`](https://scikit-learn.org/stable/modules/generated/sklearn.ensemble.RandomForestRegressor.html#sklearn.ensemble.RandomForestRegressor)\n",
    "* [`sklearn.neural_network.MLPRegressor`](https://scikit-learn.org/stable/modules/generated/sklearn.neural_network.MLPRegressor.html#sklearn.neural_network.MLPRegressor)\n",
    "* [`sklearn.neighbors.KNeighborsRegressor`](https://scikit-learn.org/stable/modules/generated/sklearn.neighbors.KNeighborsRegressor.html#sklearn.neighbors.KNeighborsRegressor)\n",
    "\n",
    "Which model gives the best MSE on the test data?"
   ]
  },
  {
   "cell_type": "code",
   "execution_count": 24,
   "metadata": {},
   "outputs": [
    {
     "name": "stdout",
     "output_type": "stream",
     "text": [
      "RandomForestRegressor MSE is 0.35159729166666664\n",
      "MLPRegressor MSE is 0.42460299891587167\n",
      "KNeighborsRegressor MSE is 0.5365\n"
     ]
    },
    {
     "name": "stderr",
     "output_type": "stream",
     "text": [
      "/home/tokateid/jupyter_env/jupyter_env/lib/python3.8/site-packages/sklearn/neural_network/_multilayer_perceptron.py:692: ConvergenceWarning: Stochastic Optimizer: Maximum iterations (200) reached and the optimization hasn't converged yet.\n",
      "  warnings.warn(\n"
     ]
    }
   ],
   "source": [
    "from sklearn.ensemble import RandomForestRegressor\n",
    "from sklearn.neural_network import MLPRegressor\n",
    "from sklearn.neighbors import KNeighborsRegressor\n",
    "\n",
    "# Model the data using 3 different types of models and compare the predictions of y with the true values\n",
    "\n",
    "# Model 1 = RandomForestRegressor\n",
    "model1 = RandomForestRegressor()\n",
    "model1.fit(X_train, y_train)\n",
    "y_pred1 = model1.predict(X_test)\n",
    "\n",
    "# Model 2 = MLPRegressor\n",
    "model2 = MLPRegressor()\n",
    "model2.fit(X_train, y_train)\n",
    "y_pred2 = model2.predict(X_test)\n",
    "\n",
    "# Model 3 = KNeighborsRegressor\n",
    "model3 = KNeighborsRegressor()\n",
    "model3.fit(X_train, y_train)\n",
    "y_pred3 = model3.predict(X_test)\n",
    "\n",
    "# Print the calculated mean squared errors \n",
    "print(\"RandomForestRegressor MSE is\", mean_squared_error(y_test, y_pred1))\n",
    "print(\"MLPRegressor MSE is\", mean_squared_error(y_test, y_pred2))\n",
    "print(\"KNeighborsRegressor MSE is\", mean_squared_error(y_test, y_pred3))"
   ]
  },
  {
   "cell_type": "markdown",
   "metadata": {},
   "source": [
    "The RandomForestRegressor gives the best (lowest) MSE for the test data"
   ]
  }
 ],
 "metadata": {
  "kernelspec": {
   "display_name": "Python 3 (ipykernel)",
   "language": "python",
   "name": "python3"
  },
  "language_info": {
   "codemirror_mode": {
    "name": "ipython",
    "version": 3
   },
   "file_extension": ".py",
   "mimetype": "text/x-python",
   "name": "python",
   "nbconvert_exporter": "python",
   "pygments_lexer": "ipython3",
   "version": "3.8.10"
  }
 },
 "nbformat": 4,
 "nbformat_minor": 4
}
