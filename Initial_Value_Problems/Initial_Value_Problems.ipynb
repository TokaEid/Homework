{
 "cells": [
  {
   "cell_type": "markdown",
   "metadata": {},
   "source": [
    "# Answers\n",
    "\n",
    "You can edit this Jupyter notebook to include your answers and run any code that generates those answers or produces plots.  You can add additional cells for code or markdown as needed.\n",
    "\n",
    "This homework is primarily about running simulations involving initial value problems (IVPs)"
   ]
  },
  {
   "cell_type": "markdown",
   "metadata": {},
   "source": [
    "## Problem 0 (45 points)\n",
    "\n",
    "In this problem, you'll implement a custom ODE solver for `solve_ivp` based on the Forward Euler method, and implement some basic tests.\n",
    "\n",
    "### Part A (20 points)\n",
    "If you read the [documentation for `solve_ipv`](https://docs.scipy.org/doc/scipy/reference/generated/scipy.integrate.solve_ivp.html), which we used in class, you'll see that you can write your own solver.\n",
    "\n",
    "Write a solver for the forward Euler method, which is not implemented as one of the available solvers (while simple, it typically is not very accurate).  Recall, this is the basic rule:\n",
    "\\begin{equation}\n",
    "y(t + h) = y(t) + h f(t, y)\n",
    "\\end{equation}\n",
    "\n",
    "Your solver should be a class which is derived from [`scipy.integrate.OdeSolver`](https://docs.scipy.org/doc/scipy/reference/generated/scipy.integrate.OdeSolver.html#scipy.integrate.OdeSolver)\n",
    "```python\n",
    "class ForwardEuler(scipy.integrate.OdeSolver):\n",
    "    pass\n",
    "```\n",
    "\n",
    "Your class definition should go in [`euler.py`](euler.py)\n",
    "\n",
    "You should read the documentation for this base class in order to implement `ForwardEuler`.  Here are some hints/notes:\n",
    "* Allow a user to set `h` using a keyword argument.  This can be passed using `solve_ivp(..., method=ForwardEuler, h=0.01)` to set `h=0.01`\n",
    "* Use a default step size `h = (t_bound - t0) / 100`\n",
    "* private methods begin with an underscore \"_\"\n",
    "* the method `_dense_output_impl(self)` should output a `ForwardEulerOutput` (defined in [`euler.py`](euler.py))\n",
    "* direction should be `+1`\n",
    "* You won't use a Jacobian, so `njev` and `nlu` can remain at 0.\n",
    "* You may want to consider using `super(ForwardEuler, self).__init__`\n",
    "* You may want to read the source code for the parent class [here](https://github.com/scipy/scipy/blob/v1.5.3/scipy/integrate/_ivp/base.py#L25-L214)\n",
    "\n",
    "---\n",
    "\n",
    "*put any discussion here*"
   ]
  },
  {
   "cell_type": "code",
   "execution_count": 1,
   "metadata": {},
   "outputs": [],
   "source": [
    "from scipy.integrate import solve_ivp\n",
    "from euler import ForwardEuler\n",
    "\n",
    "%load_ext autoreload\n",
    "%autoreload 2"
   ]
  },
  {
   "cell_type": "markdown",
   "metadata": {},
   "source": [
    "### Part B (10 points)\n",
    "\n",
    "Use your `ForwardEuler` solver and `solve_ivp` to solve an IVP $y'(t) = y$ with $y(0) = 1$ on the domain $t\\in [0,5]$, using a step size `h=0.01`.  Make a plot of the solution to this IVP with axes labeled `y` and `x`.\n",
    "\n",
    "Use SymPy to obtain the ground-truth solution to this IVP.  What is the largest error you see on the domain you solved the problem?  Try solving with the default solver in `solve_ivp`.  What is the largest error in this case?\n",
    "\n",
    "---\n",
    "\n",
    "*put your answers here*"
   ]
  },
  {
   "cell_type": "code",
   "execution_count": 7,
   "metadata": {},
   "outputs": [
    {
     "data": {
      "image/png": "[encoded data removed]",
      "text/plain": [
       "<Figure size 432x288 with 1 Axes>"
      ]
     },
     "metadata": {
      "needs_background": "light"
     },
     "output_type": "display_data"
    },
    {
     "name": "stdout",
     "output_type": "stream",
     "text": [
      "The largest error between ForwardEuler and the Sympy ground truth solution is: 3.6403866699945127\n",
      "The largest error between ForwardEuler and the default solve_ivp is: 3.6216363044061097\n"
     ]
    }
   ],
   "source": [
    "import numpy as np\n",
    "import sympy as sym\n",
    "from sympy.solvers import ode\n",
    "from scipy.integrate import solve_ivp\n",
    "import matplotlib.pyplot as plt\n",
    "\n",
    "# Defining initial condition and the function\n",
    "y0 = np.array([1])\n",
    "f = lambda t, y : y\n",
    "\n",
    "# Time interval\n",
    "t_span = (0, 5)\n",
    "t_eval = np.linspace(0, 5, 100)\n",
    "\n",
    "# Solve IVP using the ForwardEuler method\n",
    "sol1 = solve_ivp(f, t_span, y0, method = ForwardEuler, h=0.01, t_eval=t_eval)\n",
    "\n",
    "# Plot y vs t \n",
    "plt.plot(sol1.t, sol1.y, c='b')\n",
    "plt.title(\"ForwardEuler Solution\")\n",
    "plt.ylabel(\"y\")\n",
    "plt.xlabel(\"x\")\n",
    "plt.show()\n",
    "        \n",
    "# Symbolic Method\n",
    "t = sym.symbols('t') # symbol\n",
    "y = sym.Function('y') # symbolic function\n",
    "eqn = y(t).diff(t) - y(t) # eqn = 0\n",
    "\n",
    "# Solve IVP using symbolic dsolve\n",
    "sol2 = ode.dsolve(eqn, hint='separable', ics={y(0): 1})\n",
    "\n",
    "# Lamdifying the RHS of solution to be our function y\n",
    "g = sym.lambdify(t, sol2.rhs, 'numpy')\n",
    "\n",
    "# Calculating the y values for the same time interval\n",
    "sol2y = g(np.array(np.linspace(0,5,100)))\n",
    "\n",
    "# Find the largest error on the domain\n",
    "print(\"The largest error between ForwardEuler and the Sympy ground truth solution is:\", max(np.abs(sol2y - sol1.y)))\n",
    "\n",
    "\n",
    "\n",
    "# Solve_ivp using default method\n",
    "sol3 = solve_ivp(f, t_span, y0, t_eval=t_eval)\n",
    "\n",
    "# Find the largest error on the domain\n",
    "print(\"The largest error between ForwardEuler and the default solve_ivp is:\", max(np.abs(sol3.y[0] - sol1.y)))\n"
   ]
  },
  {
   "cell_type": "markdown",
   "metadata": {},
   "source": [
    "### Part C (15 points)\n",
    "\n",
    "Implement unit tests that verify that ODE solutions (numerically) obey the ODE.  Try this for $y'(t) = y$, with $y(0) = 1$ on the domain $t\\in [0,5]$.  Use a finite difference stencil with step size `k` (`k` should be smaller than the `h` you used to solve the ODE) to compute the derivative at several points.  You should only expect the derivative to be accurate to about `h*y`\n",
    "\n",
    "Implement tests for `solve_ivp` using the default settings as well as using your `ForwardEuler` implementation.\n",
    "\n",
    "Put these tests in [`test.py`](test.py).  Set up your unit tests to run when you push changes to GitHub using GitHub actions.\n",
    "\n",
    "---\n",
    "\n",
    "*put any discussion here*"
   ]
  },
  {
   "cell_type": "code",
   "execution_count": 8,
   "metadata": {},
   "outputs": [
    {
     "name": "stdout",
     "output_type": "stream",
     "text": [
      "[False False False False False False False False False False False False\n",
      " False False False False False False False False False False False False\n",
      " False False False False False False False False False False False False\n",
      " False False False False False False False False False False False False\n",
      " False False False False False False False False False False False False\n",
      " False False False False False False False False False False False False\n",
      " False False False False False False False False False False False False\n",
      " False False False False False False False False False False False False\n",
      " False False False False]\n"
     ]
    },
    {
     "name": "stderr",
     "output_type": "stream",
     "text": [
      "/home/tokateid/jupyter_env/jupyter_env/lib/python3.8/site-packages/scipy/interpolate/polyint.py:118: VisibleDeprecationWarning: Creating an ndarray from ragged nested sequences (which is a list-or-tuple of lists-or-tuples-or ndarrays with different lengths or shapes) is deprecated. If you meant to do this, you must specify 'dtype=object' when creating the ndarray.\n",
      "  yi = np.asarray(yi)\n",
      "/home/tokateid/jupyter_env/jupyter_env/lib/python3.8/site-packages/scipy/interpolate/interpolate.py:453: VisibleDeprecationWarning: Creating an ndarray from ragged nested sequences (which is a list-or-tuple of lists-or-tuples-or ndarrays with different lengths or shapes) is deprecated. If you meant to do this, you must specify 'dtype=object' when creating the ndarray.\n",
      "  y = array(y, copy=self.copy)\n"
     ]
    }
   ],
   "source": [
    "# Attempt 1\n",
    "import scipy.sparse as sparse\n",
    "import scipy.linalg as sla\n",
    "\n",
    "\n",
    "# Finite Difference Matrix Solution\n",
    "y0 = 1\n",
    "k = 0.005\n",
    "\n",
    "def backward_diff_matrix(n):\n",
    "    data = []\n",
    "    i = []\n",
    "    j = []\n",
    "    for k in range(1,n):\n",
    "        i.append(k)\n",
    "        j.append(k)\n",
    "        data.append(1)\n",
    "\n",
    "        i.append(k)\n",
    "        j.append(k-1)\n",
    "        data.append(-1)\n",
    "        \n",
    "    # we'll just set the last entry to 0 to have a square matrix\n",
    "    return sparse.coo_matrix((data, (i,j)), shape=(n, n)).tocsr()\n",
    "\n",
    "# Derivative matrix\n",
    "Db = backward_diff_matrix(100) / k\n",
    "\n",
    "# Identity\n",
    "iden = np.eye(100)\n",
    "\n",
    "# LHS of the equation D @ y - I @ y = 0\n",
    "lhs = Db - iden\n",
    "\n",
    "# Initial condition (wasn't sure when I should have added this but adding it before the previous subtraction\n",
    "# caused the lhs matrix to be singular and I would get an error)\n",
    "lhs[0,0] = 1\n",
    "\n",
    "# Zeros vector for the RHS of the equation\n",
    "zero = np.zeros(100)\n",
    "\n",
    "\n",
    "# Solving the system (D - eye) @ y = 0\n",
    "y = sla.solve(lhs, zero)\n",
    "\n",
    "\n",
    "# ForwardEuler Solution\n",
    "h = 0.01\n",
    "y0 = np.array([1])\n",
    "f = lambda t, y : y\n",
    "\n",
    "t_span = (0, 5)\n",
    "t_eval = np.linspace(0, 5, 100)\n",
    "\n",
    "euler_sol = solve_ivp(f, t_span, y0, method = ForwardEuler, h=0.01, t_eval=t_eval)\n",
    "\n",
    "# Comparing the two y values according to h*y\n",
    "print(np.abs(y - euler_sol.y) < h*y)\n",
    "\n",
    "\n",
    "# Of course I can tell the answer is wrong. I keep getting y = 0 for all entries and I have no idea why or what to do.\n",
    "# I've been working on this almost all day and I'm really tired"
   ]
  },
  {
   "cell_type": "code",
   "execution_count": 9,
   "metadata": {},
   "outputs": [
    {
     "name": "stdout",
     "output_type": "stream",
     "text": [
      "[ True False False False False False False False False False False False\n",
      " False False False False False False False False False False False False\n",
      " False False False False False False False False False False False False\n",
      " False False False False False False False False False False False False\n",
      " False False False False False False False False False False False False\n",
      " False False False False False False False False False False False False\n",
      " False False False False False False False False False False False False\n",
      " False False False False False False False False False False False False\n",
      " False False False False]\n"
     ]
    },
    {
     "name": "stderr",
     "output_type": "stream",
     "text": [
      "/home/tokateid/jupyter_env/jupyter_env/lib/python3.8/site-packages/scipy/sparse/_index.py:82: SparseEfficiencyWarning: Changing the sparsity structure of a csr_matrix is expensive. lil_matrix is more efficient.\n",
      "  self._set_intXint(row, col, x.flat[0])\n"
     ]
    }
   ],
   "source": [
    "# Attempt 2\n",
    "import matplotlib.pyplot as plt\n",
    "import sympy as sym\n",
    "import numpy as np\n",
    "\n",
    "# Symbolic Solution of ODE\n",
    "t = sym.symbols('t') # symbol\n",
    "y = sym.Function('y') # symbolic function\n",
    "eqn = y(t).diff(t) - y(t) # eqn = 0\n",
    "sol = ode.dsolve(eqn, hint='separable', ics={y(0): 1})\n",
    "g = sym.lambdify(t, sol.rhs, 'numpy')\n",
    "\n",
    "\n",
    "# Finite Difference Matrix Solution\n",
    "y0 = 1\n",
    "k = 0.005\n",
    "\n",
    "def backward_diff_matrix(n):\n",
    "    data = []\n",
    "    i = []\n",
    "    j = []\n",
    "    for k in range(1,n):\n",
    "        i.append(k)\n",
    "        j.append(k)\n",
    "        data.append(1)\n",
    "\n",
    "        i.append(k)\n",
    "        j.append(k-1)\n",
    "        data.append(-1)\n",
    "        \n",
    "    # we'll just set the last entry to 0 to have a square matrix\n",
    "    return sparse.coo_matrix((data, (i,j)), shape=(n, n)).tocsr()\n",
    "\n",
    "\n",
    "# Derivative Matrix\n",
    "D = backward_diff_matrix(100) / k\n",
    "# Initial condition\n",
    "D[0,0] = 1\n",
    "\n",
    "\n",
    "# Euler Solution\n",
    "y0 = np.array([1])\n",
    "f = lambda t, y : y\n",
    "\n",
    "t_span = (0, 5)\n",
    "t_eval = np.linspace(0, 5, 100)\n",
    "\n",
    "# Solution using ForwardEuler\n",
    "euler_sol = solve_ivp(f, t_span, y0, method = ForwardEuler, h=0.01, t_eval=t_eval)\n",
    "\n",
    "# Solution using Sympy (y values using the symbolic equation)\n",
    "sym_y = g(euler_sol.t)\n",
    "\n",
    "# Applying the derivative matrix (operator) to the symbolic solution\n",
    "finite_diff_y = D @ sym_y\n",
    "\n",
    "h = 0.01\n",
    "\n",
    "# Comparing the two y values according to h*y\n",
    "print(np.abs(finite_diff_y - euler_sol.y) < h*sym_y)\n",
    "\n",
    "\n",
    "# Again This is also very wrong. At least the solution here isn't y=0 like attempt 1, but the values in y are 10x\n",
    "# the true values and I'm not sure why. I tried figuring out where this factor of 10 could be coming from but didn't find\n",
    "# anything so I don't know. "
   ]
  },
  {
   "cell_type": "markdown",
   "metadata": {},
   "source": [
    "## Problem 1 (20 points)\n",
    "\n",
    "In this problem, you'll solve two simple, but related, ODEs using `solve_ivp`.\n",
    "\n",
    "### Part A (13 points)\n",
    "\n",
    "On the surface of the earth, objects are accelerated by a more-or-less constant gravitational field.  We'll consider an object thrown vertically with initial position $y=y_0$, and initial velocity $y' = v_0$.\n",
    "\n",
    "We'll consider a simplified problem with no wind resistance.  Newton's laws of motion tell us $y''(t) = -g$, where $g = 9.8 m/s^2$.  This is a second order ODE, which we can turn into a system of first order ODEs using the substituion $p = y'$.  Then we have\n",
    "\\begin{equation}\n",
    "\\begin{cases}\n",
    "y'(t) = p(t)\\\\\n",
    "p'(t) = -g\n",
    "\\end{cases}\n",
    "\\end{equation}\n",
    "\n",
    "You can encode this using a vector $v$, where $v[0]$ is the value $y$ above, and $v[1]$ is $p$.\n",
    "\n",
    "Use `solve_ivp` to solve for `y(t)` using `y0 = 0` and `y'(0) = 10` (i.e. you throw a ball straight up in the air at a speed of $10 m/s$).  Run this simulation for $4$ seconds.  make a plot of the trajectory $y$ as a function of $t$ (i.e. $t$ is on the horizontal axis and $y$ is on the vertical axis).  Set up an event to end the simulation when `y` is zero again (when the ball hits the ground).  At what time does the ball hit the ground?\n",
    "\n",
    "Set up an event to find when the ball is at its highest point (`p(t) = 0`).  This should not terminate the simulation.\n",
    "\n",
    "---\n",
    "\n",
    "*put any answers/discussion here*"
   ]
  },
  {
   "cell_type": "code",
   "execution_count": 4,
   "metadata": {},
   "outputs": [
    {
     "name": "stdout",
     "output_type": "stream",
     "text": [
      "Time when the ball hits the ground again is: [2.04081633]\n",
      "Time when the ball is at its highest point is: [1.02040816]\n"
     ]
    },
    {
     "data": {
      "image/png": "[encoded data removed]",
      "text/plain": [
       "<Figure size 432x288 with 1 Axes>"
      ]
     },
     "metadata": {
      "needs_background": "light"
     },
     "output_type": "display_data"
    }
   ],
   "source": [
    "import numpy as np\n",
    "import matplotlib.pyplot as plt\n",
    "from scipy.integrate import solve_ivp\n",
    "\n",
    "# Initial conditions and Parameters\n",
    "y0 = 0\n",
    "p0 = 10\n",
    "g = 9.8\n",
    "v0 = np.array([y0, p0])\n",
    "\n",
    "# Defining the two first order ODEs\n",
    "f = lambda t, y : np.array([y[1], -g] )\n",
    "\n",
    "# Time interval\n",
    "t_span = (0, 4)\n",
    "t_eval = np.linspace(0, 4, 100)\n",
    "\n",
    "# Define the event when ball hits the ground\n",
    "def hit_ground(t, y): \n",
    "    return y[0] # = 0\n",
    "\n",
    "hit_ground.terminal=True\n",
    "hit_ground.direction=-1\n",
    "\n",
    "# Define the event when ball reaches its peak\n",
    "def peak(t, y):\n",
    "    return y[1] # = 0\n",
    "\n",
    "# Solve IVP with required events\n",
    "sol = solve_ivp(f, t_span, v0, t_eval=t_eval, events=(hit_ground, peak))\n",
    "\n",
    "# Finding the time when both events happen\n",
    "print(\"Time when the ball hits the ground again is:\", sol.t_events[0])\n",
    "print(\"Time when the ball is at its highest point is:\", sol.t_events[1])\n",
    "    \n",
    "# Plot the trajectory of the ball    \n",
    "plt.plot(sol.t, sol.y[0], c='b')\n",
    "plt.title(\"Trajectory of the Ball\")\n",
    "plt.ylabel(\"Displacement y\")\n",
    "plt.xlabel(\"Time t\")\n",
    "plt.show()"
   ]
  },
  {
   "cell_type": "markdown",
   "metadata": {},
   "source": [
    "### Part B (7 points)\n",
    "\n",
    "We'll now take into account wind resistance on the ball.  We'll make a bunch of assumptions, and simply assume that the drag can be expressed as a force that accelerates the ball by adding a term `y''(t) = p'(t) = -9.8 -0.02 sgn(p(t)) p(t)**2`, where `sgn(p(t))` can be computed using `np.sign` (the sign of the velocity).\n",
    "\n",
    "Incorporate this term into the system of ODEs, and use `solve_ivp` to plot the trajectory of the ball with the same initial conditions as in part A.  Set up an event to terminate the simulation when the ball hits the ground.  At what time does the ball hit the ground?  Is this before or after the ball hits the ground when there is no wind resistance?\n",
    "\n",
    "Set up an event to find when the ball is at its highest point (`p(t) = 0`).  This should not terminate the simulation.\n",
    "\n",
    "---\n",
    "\n",
    "*put any answers/discussion here*"
   ]
  },
  {
   "cell_type": "code",
   "execution_count": 5,
   "metadata": {},
   "outputs": [
    {
     "name": "stdout",
     "output_type": "stream",
     "text": [
      "Time when the ball hits the ground again is: [1.947363]\n",
      "Time when the ball is at its highest point is: [0.95873405]\n"
     ]
    },
    {
     "data": {
      "image/png": "[encoded data removed]",
      "text/plain": [
       "<Figure size 432x288 with 1 Axes>"
      ]
     },
     "metadata": {
      "needs_background": "light"
     },
     "output_type": "display_data"
    }
   ],
   "source": [
    "import numpy as np\n",
    "import matplotlib.pyplot as plt\n",
    "from scipy.integrate import solve_ivp\n",
    "\n",
    "# Initial condition and parameters\n",
    "y0 = 0\n",
    "p0 = 10\n",
    "g = 9.8\n",
    "a = 0.02\n",
    "v0 = np.array([y0, p0])\n",
    "\n",
    "# Defining the first order ODEs with wind resistance term\n",
    "f = lambda t, y : np.array([y[1], -g - a*np.sign(y[1])*y[1]**2] )\n",
    "\n",
    "# Time interval\n",
    "t_span = (0, 4)\n",
    "t_eval = np.linspace(0, 4, 100)\n",
    "\n",
    "# Defining event when ball hits the ground\n",
    "def hit_ground(t, y): \n",
    "    return y[0]\n",
    "\n",
    "hit_ground.terminal=True\n",
    "hit_ground.direction=-1\n",
    "\n",
    "# Defining event when ball reaches its peak\n",
    "def peak(t, y):\n",
    "    return y[1]\n",
    "\n",
    "# Solve IVP with required events\n",
    "sol = solve_ivp(f, t_span, v0, t_eval=t_eval, events=(hit_ground, peak))\n",
    "\n",
    "# Finding the time when both events happen\n",
    "print(\"Time when the ball hits the ground again is:\", sol.t_events[0])\n",
    "print(\"Time when the ball is at its highest point is:\", sol.t_events[1])\n",
    "    \n",
    "# Plotting the trajectory of the ball\n",
    "plt.plot(sol.t, sol.y[0], c='b')\n",
    "plt.title(\"Trajectory of the Ball\")\n",
    "plt.ylabel(\"Displacement y\")\n",
    "plt.xlabel(\"Time t\")\n",
    "plt.show()"
   ]
  },
  {
   "cell_type": "markdown",
   "metadata": {},
   "source": [
    "In the presence of wind resistance, the ball hits the ground faster than if there wasn't any (1.94s <  2.04s). The difference is quite small to be fair but it still takes less time."
   ]
  },
  {
   "cell_type": "markdown",
   "metadata": {},
   "source": [
    "## Problem 2 (25 points)\n",
    "\n",
    "Now that you're warmed up, here are some more simulations.\n",
    "\n",
    "### Part A (15 points)\n",
    "\n",
    "In this problem, we'll simulate a planet and moon moving in a 2-dimensional plane.\n",
    "\n",
    "Newton's law of gravity says that $F_g = Gm_1 m_2 / \\|r\\|^2$.  The direction of the force is in the direction of the vector $r$.  Let $x(t)$ dentote the position of the planet and $y(t)$ denote the position of the moon, and $r(t) = x(t) - y(t)$ Then\n",
    "\\begin{equation}\n",
    "x''(t) = -F_g / m_1 \\times r / \\|r\\|\\\\\n",
    "y''(t) = F_g / m_2 \\times r / \\|r\\|\n",
    "\\end{equation}\n",
    "$x$ and $y$ are 2-vectors, so this is a system of 4-second order ODEs.  We can use the trick from problem 1 to write this as 8 first order ODEs by introducing the vector-valued variables\n",
    "$p(t) = x'(t)$, and $q(t) = y'(t)$.  Here are the terms for $x$:\n",
    "\\begin{equation}\n",
    "p_1'(t) = -F_g / m_1 \\times r_1(t) / \\|r\\|\\\\\n",
    "p_2'(t) = -F_g / m_1 \\times r_2(t) / \\|r\\|\\\\\n",
    "x_1'(t) = p_1(t)\\\\\n",
    "x_2'(t) = p_2(t)\n",
    "\\end{equation}\n",
    "\n",
    "We'll model the Earth and moon.  The [Gravitational constant](https://en.wikipedia.org/wiki/Gravitational_constant) has value `G=6.67 e-11` (we're dropping units, which are all SI).  The mass of the earth is `m1 = 5.972 e24`, and the mass of the moon is `m2=0.07346 e24`.  The distance from the moon to the earth is `r = 384.4 e6`.  This means the orbital speed of the moon around the earth is about `1.022 e3`.\n",
    "\n",
    "Use `solve_ivp` to run a simulation of the moon orbiting the earth for `5 e6` seconds (about 2 months).  Use initial conditions $x(0) = 0, p(0) = 0$ for the earth, and $y(0) = (0, 384.4 \\times 10^6)$ and $q(0) = (1.022 \\times 10^3, 0)$\n",
    "\n",
    "Plot $x_1(t), x_2(t)$ and $y_1(t), y_2(t)$ in the same plane with different colors (include a legend and title).\n",
    "\n",
    "---\n",
    "\n",
    "*Put any answers/discussion here*"
   ]
  },
  {
   "cell_type": "code",
   "execution_count": 6,
   "metadata": {},
   "outputs": [
    {
     "data": {
      "image/png": "[encoded data removed]",
      "text/plain": [
       "<Figure size 432x288 with 1 Axes>"
      ]
     },
     "metadata": {
      "needs_background": "light"
     },
     "output_type": "display_data"
    }
   ],
   "source": [
    "import numpy as np\n",
    "import matplotlib.pyplot as plt\n",
    "from scipy.integrate import solve_ivp\n",
    "\n",
    "# Parameters\n",
    "G = 6.67e-11\n",
    "m1 = 5.972e24\n",
    "m2 = 0.07346e24\n",
    "r0 = 384.4e6\n",
    "\n",
    "# Initial conditions\n",
    "x10 = 0\n",
    "x20 = 0\n",
    "p10 = 0\n",
    "p20 = 0\n",
    "y10 = 0\n",
    "y20 = 384.4e6\n",
    "q10 = 1.022e3\n",
    "q20 = 0\n",
    "\n",
    "v0 = np.array([x10,x20,y10,y20,p10,p20,q10,q20])\n",
    "\n",
    "# Defining the 8 first order ODEs\n",
    "f = lambda t, y : np.array([\n",
    "    y[4], \n",
    "    y[5],\n",
    "    y[6],\n",
    "    y[7],\n",
    "    -(G*m2*(y[0]-y[2]))/r0**3,\n",
    "    -(G*m2*(y[1]-y[3]))/r0**3,\n",
    "    (G*m1*(y[0]-y[2]))/r0**3,\n",
    "    (G*m1*(y[1]-y[3]))/r0**3\n",
    "] )\n",
    "\n",
    "# Time interval\n",
    "t_span = (0, 5e6)\n",
    "t_eval = np.linspace(0, 5e6, 5000000)\n",
    "\n",
    "# Solving IVP with the initial conditions\n",
    "sol = solve_ivp(f, t_span, v0, t_eval=t_eval)\n",
    "\n",
    "# Plotting the 2 dimensional trajectory of the Earth and Moon\n",
    "plt.plot(sol.y[0], sol.y[1], label = 'Earth', c='g')\n",
    "plt.plot(sol.y[2], sol.y[3], label = 'Moon', c='b')\n",
    "plt.title(\"Trajectory of Earth and the Moon\")\n",
    "plt.ylabel(\"Y\")\n",
    "plt.xlabel(\"X\")\n",
    "plt.legend(bbox_to_anchor=(1.25,1))\n",
    "plt.show()"
   ]
  },
  {
   "cell_type": "markdown",
   "metadata": {},
   "source": [
    "### Part B (10 points)\n",
    "\n",
    "The [Lorentz system](https://en.wikipedia.org/wiki/Lorenz_system) is a simplified model of atmospheric convection, which is one of the earliest systems investigated which exhibit [chaotic behavior](https://en.wikipedia.org/wiki/Chaos_theory).\n",
    "\n",
    "\\begin{equation}\n",
    "\\begin{cases}\n",
    "dx/dt = \\sigma( y - x)\\\\\n",
    "dy/dt = x( \\rho - z) - y\\\\\n",
    "dz/dt = xy - \\beta z\n",
    "\\end{cases}\n",
    "\\end{equation}\n",
    "\n",
    "$x$ is the rate of convection, and $y$ and $z$ measure horizontal and vertical temperature variation.\n",
    "\n",
    "You can use the parameters Lorentz used: $\\sigma=10, \\beta = 8/3, \\rho = 28$.  \n",
    "Run one simulation starting $x = y = z = 10$.  Run the simulation for $t\\in [0,7]$.\n",
    "\n",
    "Run another simulation starting at $y = z = 10$, and $x = 10.1$.  Run the simulation for $t \\in [0,7]$.\n",
    "\n",
    "Plot both solution trajectories in the $x,y$ plane (i.e. `plt(sol.y[0], sol.y[1],...`) using different colors (include labels, a title, and legend).  This system is chaotic, so the trajectories should start close and then get further apart.\n",
    "\n",
    "---\n",
    "\n",
    "*put any answers/discussion here*"
   ]
  },
  {
   "cell_type": "code",
   "execution_count": 7,
   "metadata": {},
   "outputs": [
    {
     "data": {
      "image/png": "[encoded data removed]",
      "text/plain": [
       "<Figure size 432x288 with 1 Axes>"
      ]
     },
     "metadata": {
      "needs_background": "light"
     },
     "output_type": "display_data"
    }
   ],
   "source": [
    "import numpy as np\n",
    "import matplotlib.pyplot as plt\n",
    "from scipy.integrate import solve_ivp\n",
    "\n",
    "# Parameters\n",
    "sigma = 10\n",
    "beta = 8/3\n",
    "rho = 28\n",
    "\n",
    "# Simulation 1\n",
    "# Initial conditions\n",
    "x0 = 10\n",
    "y0 = 10\n",
    "z0 = 10\n",
    "\n",
    "v01 = np.array([x0, y0, z0])\n",
    "\n",
    "# Defining the three ODEs\n",
    "f = lambda t, y : np.array([\n",
    "    sigma*(y[1]-y[0]), \n",
    "    y[0]*(rho - y[2]) - y[1],\n",
    "    y[0]*y[1] - beta*y[2]\n",
    "    \n",
    "] )\n",
    "\n",
    "# Time interval\n",
    "t_span = (0, 7)\n",
    "t_eval = np.linspace(0, 7, 100)\n",
    "\n",
    "# Solve IVP\n",
    "sol1 = solve_ivp(f, t_span, v01, t_eval=t_eval)\n",
    "\n",
    "# Simulation 2\n",
    "# New Initial conditions\n",
    "x0 = 10.1\n",
    "y0 = 10\n",
    "z0 = 10\n",
    "\n",
    "v02 = np.array([x0, y0, z0])\n",
    "\n",
    "# Solve IVP\n",
    "sol2 = solve_ivp(f, t_span, v02, t_eval=t_eval)\n",
    "   \n",
    "# Plot the trajectories of both solutions    \n",
    "plt.plot(sol1.y[0], sol1.y[1], label = 'x0 = 10', c='b')\n",
    "plt.plot(sol2.y[0], sol2.y[1], label = 'x0 = 10.1', c='r')\n",
    "plt.title(\"Chaotic Behavior\")\n",
    "plt.ylabel(\"Y\")\n",
    "plt.xlabel(\"X\")\n",
    "plt.legend()\n",
    "plt.show()"
   ]
  },
  {
   "cell_type": "markdown",
   "metadata": {},
   "source": [
    "## Problem 3 (10 points)\n",
    "\n",
    "Use functionality from `scipy.sparse` to help illustrate your answers to the following questions.\n",
    "\n",
    "In the [class materials on differentiation](https://caam37830.github.io/book/04_functions/differentiation.html), we defined `forward_diff_matrix` and `backward_diff_matrix`.  What vectors characterize the nullspace of each of these matrices (i.e. vectors `x` so that `D @ x = 0`)?\n",
    "\n",
    "Give an interpretation (from calculus) of the vector `y` where `y` solves the linear system `D @ y = x`, where `D` is a finite-difference matrix.  What is the implication of the nullspace of `D` on solving this linear system?\n",
    "\n",
    "Create a finite difference operator for the Laplacian $\\Delta = \\partial_x^2 + \\partial_y^2$ where second-order differences are based on the stencil `[1, -2, 1]`.  What is the nullspace of this matrix?\n",
    "\n",
    "---\n",
    "\n",
    "*Your answer here.  You can create some code cells as well*"
   ]
  },
  {
   "cell_type": "markdown",
   "metadata": {},
   "source": [
    "The null space of D consists of constant vectors where each element in the vector is the same such that when we apply the difference matrix to it, we get 0. "
   ]
  },
  {
   "cell_type": "markdown",
   "metadata": {},
   "source": [
    "There is an infinite number of vectors y that can solve this system since for any non-trivial solution y, we can add to it a constant vector (from the null space of D) and it will still give the same solution x"
   ]
  },
  {
   "cell_type": "code",
   "execution_count": 10,
   "metadata": {},
   "outputs": [
    {
     "name": "stdout",
     "output_type": "stream",
     "text": [
      "[[-2.  1.  0. ...  0.  0.  0.]\n",
      " [ 1. -3.  1. ...  0.  0.  0.]\n",
      " [ 0.  1. -3. ...  0.  0.  0.]\n",
      " ...\n",
      " [ 0.  0.  0. ... -2.  1.  0.]\n",
      " [ 0.  0.  0. ...  1. -2.  1.]\n",
      " [ 0.  0.  0. ...  0.  0.  0.]]\n"
     ]
    }
   ],
   "source": [
    "import numpy as np\n",
    "import scipy.sparse as sparse\n",
    "import sympy as sym\n",
    "\n",
    "# The two functions are from the professor's notes\n",
    "def forward_diff_matrix(n):\n",
    "    \"\"\"\n",
    "    Generates a forward difference matrix to calculate derivatives\n",
    "    \"\"\"\n",
    "    data = []\n",
    "    i = []\n",
    "    j = []\n",
    "    for k in range(n - 1):\n",
    "        i.append(k)\n",
    "        j.append(k)\n",
    "        data.append(-1)\n",
    "\n",
    "        i.append(k)\n",
    "        j.append(k+1)\n",
    "        data.append(1)\n",
    "        \n",
    "    return sparse.coo_matrix((data, (i,j)), shape=(n, n)).tocsr()\n",
    "\n",
    "\n",
    "def backward_diff_matrix(n):\n",
    "    \"\"\"\n",
    "    Generates a backward difference matrix to calculate derivatives\n",
    "    \"\"\"\n",
    "    data = []\n",
    "    i = []\n",
    "    j = []\n",
    "    for k in range(1,n):\n",
    "        i.append(k)\n",
    "        j.append(k)\n",
    "        data.append(1)\n",
    "\n",
    "        i.append(k)\n",
    "        j.append(k-1)\n",
    "        data.append(-1)\n",
    "        \n",
    "    return sparse.coo_matrix((data, (i,j)), shape=(n, n)).tocsr()\n",
    "\n",
    "\n",
    "# Second Derivative Difference Matrix (scheme [1, -2, 1])\n",
    "D = forward_diff_matrix(100) @ backward_diff_matrix(100)\n",
    "\n",
    "# Applying sparse.kron to get the second derivative in each direction\n",
    "D2x = sparse.kron(sparse.eye(100), D).tocsr()\n",
    "D2y = sparse.kron(D, sparse.eye(100)).tocsr()\n",
    "\n",
    "# Laplacian\n",
    "L = D2x + D2y\n",
    "print(L.toarray())"
   ]
  },
  {
   "cell_type": "markdown",
   "metadata": {},
   "source": [
    "I think the null space is matrices that are first order in x and/or y. I'm not sure how that really translates to vectors or matrix elements but I guess the elements of the matrix need to be at most first order in x/y or constant (all the same) such that their second derivatives are 0"
   ]
  },
  {
   "cell_type": "markdown",
   "metadata": {},
   "source": [
    "## Feedback\n",
    "\n",
    "If you would like share how long it took you to complete this assignment, it will help adjust the difficulty for future assignments.  You're welcome to share additional feedback as well."
   ]
  },
  {
   "cell_type": "markdown",
   "metadata": {},
   "source": [
    "This assignment was extremely long and difficult as evidenced by the fact I wasn't able to finish problem 0 part C. It would be nice if other assignments were not as long or if they are, for us to have more time to work on them. "
   ]
  },
  {
   "cell_type": "code",
   "execution_count": null,
   "metadata": {},
   "outputs": [],
   "source": []
  }
 ],
 "metadata": {
  "kernelspec": {
   "display_name": "Python 3 (ipykernel)",
   "language": "python",
   "name": "python3"
  },
  "language_info": {
   "codemirror_mode": {
    "name": "ipython",
    "version": 3
   },
   "file_extension": ".py",
   "mimetype": "text/x-python",
   "name": "python",
   "nbconvert_exporter": "python",
   "pygments_lexer": "ipython3",
   "version": "3.8.10"
  }
 },
 "nbformat": 4,
 "nbformat_minor": 4
}
